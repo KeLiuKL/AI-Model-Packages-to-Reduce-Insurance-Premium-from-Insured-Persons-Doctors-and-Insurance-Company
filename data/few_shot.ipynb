{
  "nbformat": 4,
  "nbformat_minor": 0,
  "metadata": {
    "colab": {
      "name": "few_shot.ipynb",
      "provenance": [],
      "collapsed_sections": [],
      "toc_visible": true
    },
    "kernelspec": {
      "name": "python3",
      "display_name": "Python 3"
    },
    "language_info": {
      "name": "python"
    },
    "accelerator": "GPU",
    "gpuClass": "standard",
    "widgets": {
      "application/vnd.jupyter.widget-state+json": {
        "2271095b3c3e439d9de0771cd2f927c3": {
          "model_module": "@jupyter-widgets/controls",
          "model_name": "HBoxModel",
          "model_module_version": "1.5.0",
          "state": {
            "_dom_classes": [],
            "_model_module": "@jupyter-widgets/controls",
            "_model_module_version": "1.5.0",
            "_model_name": "HBoxModel",
            "_view_count": null,
            "_view_module": "@jupyter-widgets/controls",
            "_view_module_version": "1.5.0",
            "_view_name": "HBoxView",
            "box_style": "",
            "children": [
              "IPY_MODEL_42187d28f0f14bb7aba7e9c0d5e17387",
              "IPY_MODEL_2192a03398f942908d2b88632eebc333"
            ],
            "layout": "IPY_MODEL_3e17e13b63d9405abab4655e3a0d74da"
          }
        },
        "42187d28f0f14bb7aba7e9c0d5e17387": {
          "model_module": "@jupyter-widgets/controls",
          "model_name": "FloatProgressModel",
          "model_module_version": "1.5.0",
          "state": {
            "_dom_classes": [],
            "_model_module": "@jupyter-widgets/controls",
            "_model_module_version": "1.5.0",
            "_model_name": "FloatProgressModel",
            "_view_count": null,
            "_view_module": "@jupyter-widgets/controls",
            "_view_module_version": "1.5.0",
            "_view_name": "ProgressView",
            "bar_style": "success",
            "description": "Downloading: 100%",
            "description_tooltip": null,
            "layout": "IPY_MODEL_36beba7eba304d9fbd177e62b0c2da40",
            "max": 385,
            "min": 0,
            "orientation": "horizontal",
            "style": "IPY_MODEL_87fe0806c6e6460fb942da5b82ada8f0",
            "value": 385
          }
        },
        "2192a03398f942908d2b88632eebc333": {
          "model_module": "@jupyter-widgets/controls",
          "model_name": "HTMLModel",
          "model_module_version": "1.5.0",
          "state": {
            "_dom_classes": [],
            "_model_module": "@jupyter-widgets/controls",
            "_model_module_version": "1.5.0",
            "_model_name": "HTMLModel",
            "_view_count": null,
            "_view_module": "@jupyter-widgets/controls",
            "_view_module_version": "1.5.0",
            "_view_name": "HTMLView",
            "description": "",
            "description_tooltip": null,
            "layout": "IPY_MODEL_7921ec4103e84747a926a5da71158398",
            "placeholder": "​",
            "style": "IPY_MODEL_10d9365f76bb4f62808fa94e683117b1",
            "value": " 385/385 [00:00&lt;00:00, 593B/s]"
          }
        },
        "3e17e13b63d9405abab4655e3a0d74da": {
          "model_module": "@jupyter-widgets/base",
          "model_name": "LayoutModel",
          "model_module_version": "1.2.0",
          "state": {
            "_model_module": "@jupyter-widgets/base",
            "_model_module_version": "1.2.0",
            "_model_name": "LayoutModel",
            "_view_count": null,
            "_view_module": "@jupyter-widgets/base",
            "_view_module_version": "1.2.0",
            "_view_name": "LayoutView",
            "align_content": null,
            "align_items": null,
            "align_self": null,
            "border": null,
            "bottom": null,
            "display": null,
            "flex": null,
            "flex_flow": null,
            "grid_area": null,
            "grid_auto_columns": null,
            "grid_auto_flow": null,
            "grid_auto_rows": null,
            "grid_column": null,
            "grid_gap": null,
            "grid_row": null,
            "grid_template_areas": null,
            "grid_template_columns": null,
            "grid_template_rows": null,
            "height": null,
            "justify_content": null,
            "justify_items": null,
            "left": null,
            "margin": null,
            "max_height": null,
            "max_width": null,
            "min_height": null,
            "min_width": null,
            "object_fit": null,
            "object_position": null,
            "order": null,
            "overflow": null,
            "overflow_x": null,
            "overflow_y": null,
            "padding": null,
            "right": null,
            "top": null,
            "visibility": null,
            "width": null
          }
        },
        "36beba7eba304d9fbd177e62b0c2da40": {
          "model_module": "@jupyter-widgets/base",
          "model_name": "LayoutModel",
          "model_module_version": "1.2.0",
          "state": {
            "_model_module": "@jupyter-widgets/base",
            "_model_module_version": "1.2.0",
            "_model_name": "LayoutModel",
            "_view_count": null,
            "_view_module": "@jupyter-widgets/base",
            "_view_module_version": "1.2.0",
            "_view_name": "LayoutView",
            "align_content": null,
            "align_items": null,
            "align_self": null,
            "border": null,
            "bottom": null,
            "display": null,
            "flex": null,
            "flex_flow": null,
            "grid_area": null,
            "grid_auto_columns": null,
            "grid_auto_flow": null,
            "grid_auto_rows": null,
            "grid_column": null,
            "grid_gap": null,
            "grid_row": null,
            "grid_template_areas": null,
            "grid_template_columns": null,
            "grid_template_rows": null,
            "height": null,
            "justify_content": null,
            "justify_items": null,
            "left": null,
            "margin": null,
            "max_height": null,
            "max_width": null,
            "min_height": null,
            "min_width": null,
            "object_fit": null,
            "object_position": null,
            "order": null,
            "overflow": null,
            "overflow_x": null,
            "overflow_y": null,
            "padding": null,
            "right": null,
            "top": null,
            "visibility": null,
            "width": null
          }
        },
        "87fe0806c6e6460fb942da5b82ada8f0": {
          "model_module": "@jupyter-widgets/controls",
          "model_name": "ProgressStyleModel",
          "model_module_version": "1.5.0",
          "state": {
            "_model_module": "@jupyter-widgets/controls",
            "_model_module_version": "1.5.0",
            "_model_name": "ProgressStyleModel",
            "_view_count": null,
            "_view_module": "@jupyter-widgets/base",
            "_view_module_version": "1.2.0",
            "_view_name": "StyleView",
            "bar_color": null,
            "description_width": "initial"
          }
        },
        "7921ec4103e84747a926a5da71158398": {
          "model_module": "@jupyter-widgets/base",
          "model_name": "LayoutModel",
          "model_module_version": "1.2.0",
          "state": {
            "_model_module": "@jupyter-widgets/base",
            "_model_module_version": "1.2.0",
            "_model_name": "LayoutModel",
            "_view_count": null,
            "_view_module": "@jupyter-widgets/base",
            "_view_module_version": "1.2.0",
            "_view_name": "LayoutView",
            "align_content": null,
            "align_items": null,
            "align_self": null,
            "border": null,
            "bottom": null,
            "display": null,
            "flex": null,
            "flex_flow": null,
            "grid_area": null,
            "grid_auto_columns": null,
            "grid_auto_flow": null,
            "grid_auto_rows": null,
            "grid_column": null,
            "grid_gap": null,
            "grid_row": null,
            "grid_template_areas": null,
            "grid_template_columns": null,
            "grid_template_rows": null,
            "height": null,
            "justify_content": null,
            "justify_items": null,
            "left": null,
            "margin": null,
            "max_height": null,
            "max_width": null,
            "min_height": null,
            "min_width": null,
            "object_fit": null,
            "object_position": null,
            "order": null,
            "overflow": null,
            "overflow_x": null,
            "overflow_y": null,
            "padding": null,
            "right": null,
            "top": null,
            "visibility": null,
            "width": null
          }
        },
        "10d9365f76bb4f62808fa94e683117b1": {
          "model_module": "@jupyter-widgets/controls",
          "model_name": "DescriptionStyleModel",
          "model_module_version": "1.5.0",
          "state": {
            "_model_module": "@jupyter-widgets/controls",
            "_model_module_version": "1.5.0",
            "_model_name": "DescriptionStyleModel",
            "_view_count": null,
            "_view_module": "@jupyter-widgets/base",
            "_view_module_version": "1.2.0",
            "_view_name": "StyleView",
            "description_width": ""
          }
        },
        "98d2a4bf85844fef9ed617b66f62f990": {
          "model_module": "@jupyter-widgets/controls",
          "model_name": "HBoxModel",
          "model_module_version": "1.5.0",
          "state": {
            "_dom_classes": [],
            "_model_module": "@jupyter-widgets/controls",
            "_model_module_version": "1.5.0",
            "_model_name": "HBoxModel",
            "_view_count": null,
            "_view_module": "@jupyter-widgets/controls",
            "_view_module_version": "1.5.0",
            "_view_name": "HBoxView",
            "box_style": "",
            "children": [
              "IPY_MODEL_ac2862000ca248e5ab97b3360e487966",
              "IPY_MODEL_862cec9dac8a4502b83baebfce1c9fe5"
            ],
            "layout": "IPY_MODEL_73b6de8b10b0499385e8f122e95f6b1d"
          }
        },
        "ac2862000ca248e5ab97b3360e487966": {
          "model_module": "@jupyter-widgets/controls",
          "model_name": "FloatProgressModel",
          "model_module_version": "1.5.0",
          "state": {
            "_dom_classes": [],
            "_model_module": "@jupyter-widgets/controls",
            "_model_module_version": "1.5.0",
            "_model_name": "FloatProgressModel",
            "_view_count": null,
            "_view_module": "@jupyter-widgets/controls",
            "_view_module_version": "1.5.0",
            "_view_name": "ProgressView",
            "bar_style": "success",
            "description": "Downloading: 100%",
            "description_tooltip": null,
            "layout": "IPY_MODEL_b56304df25c547a5bcf7cbbbbe0ee292",
            "max": 231508,
            "min": 0,
            "orientation": "horizontal",
            "style": "IPY_MODEL_cbb7ffedc358474b8d9230cdd4e8071c",
            "value": 231508
          }
        },
        "862cec9dac8a4502b83baebfce1c9fe5": {
          "model_module": "@jupyter-widgets/controls",
          "model_name": "HTMLModel",
          "model_module_version": "1.5.0",
          "state": {
            "_dom_classes": [],
            "_model_module": "@jupyter-widgets/controls",
            "_model_module_version": "1.5.0",
            "_model_name": "HTMLModel",
            "_view_count": null,
            "_view_module": "@jupyter-widgets/controls",
            "_view_module_version": "1.5.0",
            "_view_name": "HTMLView",
            "description": "",
            "description_tooltip": null,
            "layout": "IPY_MODEL_22d001ccf6ae439e8cf5bda7cba187fb",
            "placeholder": "​",
            "style": "IPY_MODEL_f6e8df4d20bf497cad857c41828298ff",
            "value": " 232k/232k [00:02&lt;00:00, 114kB/s]"
          }
        },
        "73b6de8b10b0499385e8f122e95f6b1d": {
          "model_module": "@jupyter-widgets/base",
          "model_name": "LayoutModel",
          "model_module_version": "1.2.0",
          "state": {
            "_model_module": "@jupyter-widgets/base",
            "_model_module_version": "1.2.0",
            "_model_name": "LayoutModel",
            "_view_count": null,
            "_view_module": "@jupyter-widgets/base",
            "_view_module_version": "1.2.0",
            "_view_name": "LayoutView",
            "align_content": null,
            "align_items": null,
            "align_self": null,
            "border": null,
            "bottom": null,
            "display": null,
            "flex": null,
            "flex_flow": null,
            "grid_area": null,
            "grid_auto_columns": null,
            "grid_auto_flow": null,
            "grid_auto_rows": null,
            "grid_column": null,
            "grid_gap": null,
            "grid_row": null,
            "grid_template_areas": null,
            "grid_template_columns": null,
            "grid_template_rows": null,
            "height": null,
            "justify_content": null,
            "justify_items": null,
            "left": null,
            "margin": null,
            "max_height": null,
            "max_width": null,
            "min_height": null,
            "min_width": null,
            "object_fit": null,
            "object_position": null,
            "order": null,
            "overflow": null,
            "overflow_x": null,
            "overflow_y": null,
            "padding": null,
            "right": null,
            "top": null,
            "visibility": null,
            "width": null
          }
        },
        "b56304df25c547a5bcf7cbbbbe0ee292": {
          "model_module": "@jupyter-widgets/base",
          "model_name": "LayoutModel",
          "model_module_version": "1.2.0",
          "state": {
            "_model_module": "@jupyter-widgets/base",
            "_model_module_version": "1.2.0",
            "_model_name": "LayoutModel",
            "_view_count": null,
            "_view_module": "@jupyter-widgets/base",
            "_view_module_version": "1.2.0",
            "_view_name": "LayoutView",
            "align_content": null,
            "align_items": null,
            "align_self": null,
            "border": null,
            "bottom": null,
            "display": null,
            "flex": null,
            "flex_flow": null,
            "grid_area": null,
            "grid_auto_columns": null,
            "grid_auto_flow": null,
            "grid_auto_rows": null,
            "grid_column": null,
            "grid_gap": null,
            "grid_row": null,
            "grid_template_areas": null,
            "grid_template_columns": null,
            "grid_template_rows": null,
            "height": null,
            "justify_content": null,
            "justify_items": null,
            "left": null,
            "margin": null,
            "max_height": null,
            "max_width": null,
            "min_height": null,
            "min_width": null,
            "object_fit": null,
            "object_position": null,
            "order": null,
            "overflow": null,
            "overflow_x": null,
            "overflow_y": null,
            "padding": null,
            "right": null,
            "top": null,
            "visibility": null,
            "width": null
          }
        },
        "cbb7ffedc358474b8d9230cdd4e8071c": {
          "model_module": "@jupyter-widgets/controls",
          "model_name": "ProgressStyleModel",
          "model_module_version": "1.5.0",
          "state": {
            "_model_module": "@jupyter-widgets/controls",
            "_model_module_version": "1.5.0",
            "_model_name": "ProgressStyleModel",
            "_view_count": null,
            "_view_module": "@jupyter-widgets/base",
            "_view_module_version": "1.2.0",
            "_view_name": "StyleView",
            "bar_color": null,
            "description_width": "initial"
          }
        },
        "22d001ccf6ae439e8cf5bda7cba187fb": {
          "model_module": "@jupyter-widgets/base",
          "model_name": "LayoutModel",
          "model_module_version": "1.2.0",
          "state": {
            "_model_module": "@jupyter-widgets/base",
            "_model_module_version": "1.2.0",
            "_model_name": "LayoutModel",
            "_view_count": null,
            "_view_module": "@jupyter-widgets/base",
            "_view_module_version": "1.2.0",
            "_view_name": "LayoutView",
            "align_content": null,
            "align_items": null,
            "align_self": null,
            "border": null,
            "bottom": null,
            "display": null,
            "flex": null,
            "flex_flow": null,
            "grid_area": null,
            "grid_auto_columns": null,
            "grid_auto_flow": null,
            "grid_auto_rows": null,
            "grid_column": null,
            "grid_gap": null,
            "grid_row": null,
            "grid_template_areas": null,
            "grid_template_columns": null,
            "grid_template_rows": null,
            "height": null,
            "justify_content": null,
            "justify_items": null,
            "left": null,
            "margin": null,
            "max_height": null,
            "max_width": null,
            "min_height": null,
            "min_width": null,
            "object_fit": null,
            "object_position": null,
            "order": null,
            "overflow": null,
            "overflow_x": null,
            "overflow_y": null,
            "padding": null,
            "right": null,
            "top": null,
            "visibility": null,
            "width": null
          }
        },
        "f6e8df4d20bf497cad857c41828298ff": {
          "model_module": "@jupyter-widgets/controls",
          "model_name": "DescriptionStyleModel",
          "model_module_version": "1.5.0",
          "state": {
            "_model_module": "@jupyter-widgets/controls",
            "_model_module_version": "1.5.0",
            "_model_name": "DescriptionStyleModel",
            "_view_count": null,
            "_view_module": "@jupyter-widgets/base",
            "_view_module_version": "1.2.0",
            "_view_name": "StyleView",
            "description_width": ""
          }
        },
        "e06c83fb4a7848d49985281bca48c8db": {
          "model_module": "@jupyter-widgets/controls",
          "model_name": "HBoxModel",
          "model_module_version": "1.5.0",
          "state": {
            "_dom_classes": [],
            "_model_module": "@jupyter-widgets/controls",
            "_model_module_version": "1.5.0",
            "_model_name": "HBoxModel",
            "_view_count": null,
            "_view_module": "@jupyter-widgets/controls",
            "_view_module_version": "1.5.0",
            "_view_name": "HBoxView",
            "box_style": "",
            "children": [
              "IPY_MODEL_806acc70b64f435b9a8ffe297920b8eb",
              "IPY_MODEL_3af0a411621b4653b348fa321e49e482"
            ],
            "layout": "IPY_MODEL_101e852796a048d99a06cc403a6b0a9a"
          }
        },
        "806acc70b64f435b9a8ffe297920b8eb": {
          "model_module": "@jupyter-widgets/controls",
          "model_name": "FloatProgressModel",
          "model_module_version": "1.5.0",
          "state": {
            "_dom_classes": [],
            "_model_module": "@jupyter-widgets/controls",
            "_model_module_version": "1.5.0",
            "_model_name": "FloatProgressModel",
            "_view_count": null,
            "_view_module": "@jupyter-widgets/controls",
            "_view_module_version": "1.5.0",
            "_view_name": "ProgressView",
            "bar_style": "success",
            "description": "Downloading: 100%",
            "description_tooltip": null,
            "layout": "IPY_MODEL_11fb1e37fb7742ecb4b5f37004377658",
            "max": 2,
            "min": 0,
            "orientation": "horizontal",
            "style": "IPY_MODEL_d4aaef05f9ed4c20acd3ae81da655223",
            "value": 2
          }
        },
        "3af0a411621b4653b348fa321e49e482": {
          "model_module": "@jupyter-widgets/controls",
          "model_name": "HTMLModel",
          "model_module_version": "1.5.0",
          "state": {
            "_dom_classes": [],
            "_model_module": "@jupyter-widgets/controls",
            "_model_module_version": "1.5.0",
            "_model_name": "HTMLModel",
            "_view_count": null,
            "_view_module": "@jupyter-widgets/controls",
            "_view_module_version": "1.5.0",
            "_view_name": "HTMLView",
            "description": "",
            "description_tooltip": null,
            "layout": "IPY_MODEL_85d25c100dd14807a2f5cf6564fc12e7",
            "placeholder": "​",
            "style": "IPY_MODEL_832af715dede490ab2fd4a4377b180c1",
            "value": " 2.00/2.00 [00:00&lt;00:00, 2.98B/s]"
          }
        },
        "101e852796a048d99a06cc403a6b0a9a": {
          "model_module": "@jupyter-widgets/base",
          "model_name": "LayoutModel",
          "model_module_version": "1.2.0",
          "state": {
            "_model_module": "@jupyter-widgets/base",
            "_model_module_version": "1.2.0",
            "_model_name": "LayoutModel",
            "_view_count": null,
            "_view_module": "@jupyter-widgets/base",
            "_view_module_version": "1.2.0",
            "_view_name": "LayoutView",
            "align_content": null,
            "align_items": null,
            "align_self": null,
            "border": null,
            "bottom": null,
            "display": null,
            "flex": null,
            "flex_flow": null,
            "grid_area": null,
            "grid_auto_columns": null,
            "grid_auto_flow": null,
            "grid_auto_rows": null,
            "grid_column": null,
            "grid_gap": null,
            "grid_row": null,
            "grid_template_areas": null,
            "grid_template_columns": null,
            "grid_template_rows": null,
            "height": null,
            "justify_content": null,
            "justify_items": null,
            "left": null,
            "margin": null,
            "max_height": null,
            "max_width": null,
            "min_height": null,
            "min_width": null,
            "object_fit": null,
            "object_position": null,
            "order": null,
            "overflow": null,
            "overflow_x": null,
            "overflow_y": null,
            "padding": null,
            "right": null,
            "top": null,
            "visibility": null,
            "width": null
          }
        },
        "11fb1e37fb7742ecb4b5f37004377658": {
          "model_module": "@jupyter-widgets/base",
          "model_name": "LayoutModel",
          "model_module_version": "1.2.0",
          "state": {
            "_model_module": "@jupyter-widgets/base",
            "_model_module_version": "1.2.0",
            "_model_name": "LayoutModel",
            "_view_count": null,
            "_view_module": "@jupyter-widgets/base",
            "_view_module_version": "1.2.0",
            "_view_name": "LayoutView",
            "align_content": null,
            "align_items": null,
            "align_self": null,
            "border": null,
            "bottom": null,
            "display": null,
            "flex": null,
            "flex_flow": null,
            "grid_area": null,
            "grid_auto_columns": null,
            "grid_auto_flow": null,
            "grid_auto_rows": null,
            "grid_column": null,
            "grid_gap": null,
            "grid_row": null,
            "grid_template_areas": null,
            "grid_template_columns": null,
            "grid_template_rows": null,
            "height": null,
            "justify_content": null,
            "justify_items": null,
            "left": null,
            "margin": null,
            "max_height": null,
            "max_width": null,
            "min_height": null,
            "min_width": null,
            "object_fit": null,
            "object_position": null,
            "order": null,
            "overflow": null,
            "overflow_x": null,
            "overflow_y": null,
            "padding": null,
            "right": null,
            "top": null,
            "visibility": null,
            "width": null
          }
        },
        "d4aaef05f9ed4c20acd3ae81da655223": {
          "model_module": "@jupyter-widgets/controls",
          "model_name": "ProgressStyleModel",
          "model_module_version": "1.5.0",
          "state": {
            "_model_module": "@jupyter-widgets/controls",
            "_model_module_version": "1.5.0",
            "_model_name": "ProgressStyleModel",
            "_view_count": null,
            "_view_module": "@jupyter-widgets/base",
            "_view_module_version": "1.2.0",
            "_view_name": "StyleView",
            "bar_color": null,
            "description_width": "initial"
          }
        },
        "85d25c100dd14807a2f5cf6564fc12e7": {
          "model_module": "@jupyter-widgets/base",
          "model_name": "LayoutModel",
          "model_module_version": "1.2.0",
          "state": {
            "_model_module": "@jupyter-widgets/base",
            "_model_module_version": "1.2.0",
            "_model_name": "LayoutModel",
            "_view_count": null,
            "_view_module": "@jupyter-widgets/base",
            "_view_module_version": "1.2.0",
            "_view_name": "LayoutView",
            "align_content": null,
            "align_items": null,
            "align_self": null,
            "border": null,
            "bottom": null,
            "display": null,
            "flex": null,
            "flex_flow": null,
            "grid_area": null,
            "grid_auto_columns": null,
            "grid_auto_flow": null,
            "grid_auto_rows": null,
            "grid_column": null,
            "grid_gap": null,
            "grid_row": null,
            "grid_template_areas": null,
            "grid_template_columns": null,
            "grid_template_rows": null,
            "height": null,
            "justify_content": null,
            "justify_items": null,
            "left": null,
            "margin": null,
            "max_height": null,
            "max_width": null,
            "min_height": null,
            "min_width": null,
            "object_fit": null,
            "object_position": null,
            "order": null,
            "overflow": null,
            "overflow_x": null,
            "overflow_y": null,
            "padding": null,
            "right": null,
            "top": null,
            "visibility": null,
            "width": null
          }
        },
        "832af715dede490ab2fd4a4377b180c1": {
          "model_module": "@jupyter-widgets/controls",
          "model_name": "DescriptionStyleModel",
          "model_module_version": "1.5.0",
          "state": {
            "_model_module": "@jupyter-widgets/controls",
            "_model_module_version": "1.5.0",
            "_model_name": "DescriptionStyleModel",
            "_view_count": null,
            "_view_module": "@jupyter-widgets/base",
            "_view_module_version": "1.2.0",
            "_view_name": "StyleView",
            "description_width": ""
          }
        },
        "00b81d5426994a9291d903d76d3ba555": {
          "model_module": "@jupyter-widgets/controls",
          "model_name": "HBoxModel",
          "model_module_version": "1.5.0",
          "state": {
            "_dom_classes": [],
            "_model_module": "@jupyter-widgets/controls",
            "_model_module_version": "1.5.0",
            "_model_name": "HBoxModel",
            "_view_count": null,
            "_view_module": "@jupyter-widgets/controls",
            "_view_module_version": "1.5.0",
            "_view_name": "HBoxView",
            "box_style": "",
            "children": [
              "IPY_MODEL_c5a241cc50ac4adf952b13ead76cc3ec",
              "IPY_MODEL_72c3152745ff49f581819ffaca372570"
            ],
            "layout": "IPY_MODEL_6becf4d652294b359d65db23d3583362"
          }
        },
        "c5a241cc50ac4adf952b13ead76cc3ec": {
          "model_module": "@jupyter-widgets/controls",
          "model_name": "FloatProgressModel",
          "model_module_version": "1.5.0",
          "state": {
            "_dom_classes": [],
            "_model_module": "@jupyter-widgets/controls",
            "_model_module_version": "1.5.0",
            "_model_name": "FloatProgressModel",
            "_view_count": null,
            "_view_module": "@jupyter-widgets/controls",
            "_view_module_version": "1.5.0",
            "_view_name": "ProgressView",
            "bar_style": "success",
            "description": "Downloading: 100%",
            "description_tooltip": null,
            "layout": "IPY_MODEL_916889a59c484d03ba3864ea53c83f95",
            "max": 112,
            "min": 0,
            "orientation": "horizontal",
            "style": "IPY_MODEL_bf846a0865e24b93828e43bd53dce742",
            "value": 112
          }
        },
        "72c3152745ff49f581819ffaca372570": {
          "model_module": "@jupyter-widgets/controls",
          "model_name": "HTMLModel",
          "model_module_version": "1.5.0",
          "state": {
            "_dom_classes": [],
            "_model_module": "@jupyter-widgets/controls",
            "_model_module_version": "1.5.0",
            "_model_name": "HTMLModel",
            "_view_count": null,
            "_view_module": "@jupyter-widgets/controls",
            "_view_module_version": "1.5.0",
            "_view_name": "HTMLView",
            "description": "",
            "description_tooltip": null,
            "layout": "IPY_MODEL_5f896cddb4e64845944e6c29ba5b2425",
            "placeholder": "​",
            "style": "IPY_MODEL_48925049f17c4e30a50500850399a8eb",
            "value": " 112/112 [00:00&lt;00:00, 2.79kB/s]"
          }
        },
        "6becf4d652294b359d65db23d3583362": {
          "model_module": "@jupyter-widgets/base",
          "model_name": "LayoutModel",
          "model_module_version": "1.2.0",
          "state": {
            "_model_module": "@jupyter-widgets/base",
            "_model_module_version": "1.2.0",
            "_model_name": "LayoutModel",
            "_view_count": null,
            "_view_module": "@jupyter-widgets/base",
            "_view_module_version": "1.2.0",
            "_view_name": "LayoutView",
            "align_content": null,
            "align_items": null,
            "align_self": null,
            "border": null,
            "bottom": null,
            "display": null,
            "flex": null,
            "flex_flow": null,
            "grid_area": null,
            "grid_auto_columns": null,
            "grid_auto_flow": null,
            "grid_auto_rows": null,
            "grid_column": null,
            "grid_gap": null,
            "grid_row": null,
            "grid_template_areas": null,
            "grid_template_columns": null,
            "grid_template_rows": null,
            "height": null,
            "justify_content": null,
            "justify_items": null,
            "left": null,
            "margin": null,
            "max_height": null,
            "max_width": null,
            "min_height": null,
            "min_width": null,
            "object_fit": null,
            "object_position": null,
            "order": null,
            "overflow": null,
            "overflow_x": null,
            "overflow_y": null,
            "padding": null,
            "right": null,
            "top": null,
            "visibility": null,
            "width": null
          }
        },
        "916889a59c484d03ba3864ea53c83f95": {
          "model_module": "@jupyter-widgets/base",
          "model_name": "LayoutModel",
          "model_module_version": "1.2.0",
          "state": {
            "_model_module": "@jupyter-widgets/base",
            "_model_module_version": "1.2.0",
            "_model_name": "LayoutModel",
            "_view_count": null,
            "_view_module": "@jupyter-widgets/base",
            "_view_module_version": "1.2.0",
            "_view_name": "LayoutView",
            "align_content": null,
            "align_items": null,
            "align_self": null,
            "border": null,
            "bottom": null,
            "display": null,
            "flex": null,
            "flex_flow": null,
            "grid_area": null,
            "grid_auto_columns": null,
            "grid_auto_flow": null,
            "grid_auto_rows": null,
            "grid_column": null,
            "grid_gap": null,
            "grid_row": null,
            "grid_template_areas": null,
            "grid_template_columns": null,
            "grid_template_rows": null,
            "height": null,
            "justify_content": null,
            "justify_items": null,
            "left": null,
            "margin": null,
            "max_height": null,
            "max_width": null,
            "min_height": null,
            "min_width": null,
            "object_fit": null,
            "object_position": null,
            "order": null,
            "overflow": null,
            "overflow_x": null,
            "overflow_y": null,
            "padding": null,
            "right": null,
            "top": null,
            "visibility": null,
            "width": null
          }
        },
        "bf846a0865e24b93828e43bd53dce742": {
          "model_module": "@jupyter-widgets/controls",
          "model_name": "ProgressStyleModel",
          "model_module_version": "1.5.0",
          "state": {
            "_model_module": "@jupyter-widgets/controls",
            "_model_module_version": "1.5.0",
            "_model_name": "ProgressStyleModel",
            "_view_count": null,
            "_view_module": "@jupyter-widgets/base",
            "_view_module_version": "1.2.0",
            "_view_name": "StyleView",
            "bar_color": null,
            "description_width": "initial"
          }
        },
        "5f896cddb4e64845944e6c29ba5b2425": {
          "model_module": "@jupyter-widgets/base",
          "model_name": "LayoutModel",
          "model_module_version": "1.2.0",
          "state": {
            "_model_module": "@jupyter-widgets/base",
            "_model_module_version": "1.2.0",
            "_model_name": "LayoutModel",
            "_view_count": null,
            "_view_module": "@jupyter-widgets/base",
            "_view_module_version": "1.2.0",
            "_view_name": "LayoutView",
            "align_content": null,
            "align_items": null,
            "align_self": null,
            "border": null,
            "bottom": null,
            "display": null,
            "flex": null,
            "flex_flow": null,
            "grid_area": null,
            "grid_auto_columns": null,
            "grid_auto_flow": null,
            "grid_auto_rows": null,
            "grid_column": null,
            "grid_gap": null,
            "grid_row": null,
            "grid_template_areas": null,
            "grid_template_columns": null,
            "grid_template_rows": null,
            "height": null,
            "justify_content": null,
            "justify_items": null,
            "left": null,
            "margin": null,
            "max_height": null,
            "max_width": null,
            "min_height": null,
            "min_width": null,
            "object_fit": null,
            "object_position": null,
            "order": null,
            "overflow": null,
            "overflow_x": null,
            "overflow_y": null,
            "padding": null,
            "right": null,
            "top": null,
            "visibility": null,
            "width": null
          }
        },
        "48925049f17c4e30a50500850399a8eb": {
          "model_module": "@jupyter-widgets/controls",
          "model_name": "DescriptionStyleModel",
          "model_module_version": "1.5.0",
          "state": {
            "_model_module": "@jupyter-widgets/controls",
            "_model_module_version": "1.5.0",
            "_model_name": "DescriptionStyleModel",
            "_view_count": null,
            "_view_module": "@jupyter-widgets/base",
            "_view_module_version": "1.2.0",
            "_view_name": "StyleView",
            "description_width": ""
          }
        },
        "cffc06c70041446f8c92b610b246ba01": {
          "model_module": "@jupyter-widgets/controls",
          "model_name": "HBoxModel",
          "model_module_version": "1.5.0",
          "state": {
            "_dom_classes": [],
            "_model_module": "@jupyter-widgets/controls",
            "_model_module_version": "1.5.0",
            "_model_name": "HBoxModel",
            "_view_count": null,
            "_view_module": "@jupyter-widgets/controls",
            "_view_module_version": "1.5.0",
            "_view_name": "HBoxView",
            "box_style": "",
            "children": [
              "IPY_MODEL_ea874d13b04b47bfb469c66770db3382",
              "IPY_MODEL_7c6853e74a8a425f8eca2fd940eaf9df"
            ],
            "layout": "IPY_MODEL_9ebb931d6ceb41c8a07c4e8b1d5bcc99"
          }
        },
        "ea874d13b04b47bfb469c66770db3382": {
          "model_module": "@jupyter-widgets/controls",
          "model_name": "FloatProgressModel",
          "model_module_version": "1.5.0",
          "state": {
            "_dom_classes": [],
            "_model_module": "@jupyter-widgets/controls",
            "_model_module_version": "1.5.0",
            "_model_name": "FloatProgressModel",
            "_view_count": null,
            "_view_module": "@jupyter-widgets/controls",
            "_view_module_version": "1.5.0",
            "_view_name": "ProgressView",
            "bar_style": "success",
            "description": "Downloading: 100%",
            "description_tooltip": null,
            "layout": "IPY_MODEL_6406055938ce4a9c8acee7d065647725",
            "max": 438006864,
            "min": 0,
            "orientation": "horizontal",
            "style": "IPY_MODEL_c8a54fe8858d4beda88454a4fbda2e9e",
            "value": 438006864
          }
        },
        "7c6853e74a8a425f8eca2fd940eaf9df": {
          "model_module": "@jupyter-widgets/controls",
          "model_name": "HTMLModel",
          "model_module_version": "1.5.0",
          "state": {
            "_dom_classes": [],
            "_model_module": "@jupyter-widgets/controls",
            "_model_module_version": "1.5.0",
            "_model_name": "HTMLModel",
            "_view_count": null,
            "_view_module": "@jupyter-widgets/controls",
            "_view_module_version": "1.5.0",
            "_view_name": "HTMLView",
            "description": "",
            "description_tooltip": null,
            "layout": "IPY_MODEL_d8b0126610804a479e78320a2b9140cd",
            "placeholder": "​",
            "style": "IPY_MODEL_1ce18d6fe5384b0582a7595dae73c136",
            "value": " 438M/438M [00:08&lt;00:00, 51.6MB/s]"
          }
        },
        "9ebb931d6ceb41c8a07c4e8b1d5bcc99": {
          "model_module": "@jupyter-widgets/base",
          "model_name": "LayoutModel",
          "model_module_version": "1.2.0",
          "state": {
            "_model_module": "@jupyter-widgets/base",
            "_model_module_version": "1.2.0",
            "_model_name": "LayoutModel",
            "_view_count": null,
            "_view_module": "@jupyter-widgets/base",
            "_view_module_version": "1.2.0",
            "_view_name": "LayoutView",
            "align_content": null,
            "align_items": null,
            "align_self": null,
            "border": null,
            "bottom": null,
            "display": null,
            "flex": null,
            "flex_flow": null,
            "grid_area": null,
            "grid_auto_columns": null,
            "grid_auto_flow": null,
            "grid_auto_rows": null,
            "grid_column": null,
            "grid_gap": null,
            "grid_row": null,
            "grid_template_areas": null,
            "grid_template_columns": null,
            "grid_template_rows": null,
            "height": null,
            "justify_content": null,
            "justify_items": null,
            "left": null,
            "margin": null,
            "max_height": null,
            "max_width": null,
            "min_height": null,
            "min_width": null,
            "object_fit": null,
            "object_position": null,
            "order": null,
            "overflow": null,
            "overflow_x": null,
            "overflow_y": null,
            "padding": null,
            "right": null,
            "top": null,
            "visibility": null,
            "width": null
          }
        },
        "6406055938ce4a9c8acee7d065647725": {
          "model_module": "@jupyter-widgets/base",
          "model_name": "LayoutModel",
          "model_module_version": "1.2.0",
          "state": {
            "_model_module": "@jupyter-widgets/base",
            "_model_module_version": "1.2.0",
            "_model_name": "LayoutModel",
            "_view_count": null,
            "_view_module": "@jupyter-widgets/base",
            "_view_module_version": "1.2.0",
            "_view_name": "LayoutView",
            "align_content": null,
            "align_items": null,
            "align_self": null,
            "border": null,
            "bottom": null,
            "display": null,
            "flex": null,
            "flex_flow": null,
            "grid_area": null,
            "grid_auto_columns": null,
            "grid_auto_flow": null,
            "grid_auto_rows": null,
            "grid_column": null,
            "grid_gap": null,
            "grid_row": null,
            "grid_template_areas": null,
            "grid_template_columns": null,
            "grid_template_rows": null,
            "height": null,
            "justify_content": null,
            "justify_items": null,
            "left": null,
            "margin": null,
            "max_height": null,
            "max_width": null,
            "min_height": null,
            "min_width": null,
            "object_fit": null,
            "object_position": null,
            "order": null,
            "overflow": null,
            "overflow_x": null,
            "overflow_y": null,
            "padding": null,
            "right": null,
            "top": null,
            "visibility": null,
            "width": null
          }
        },
        "c8a54fe8858d4beda88454a4fbda2e9e": {
          "model_module": "@jupyter-widgets/controls",
          "model_name": "ProgressStyleModel",
          "model_module_version": "1.5.0",
          "state": {
            "_model_module": "@jupyter-widgets/controls",
            "_model_module_version": "1.5.0",
            "_model_name": "ProgressStyleModel",
            "_view_count": null,
            "_view_module": "@jupyter-widgets/base",
            "_view_module_version": "1.2.0",
            "_view_name": "StyleView",
            "bar_color": null,
            "description_width": "initial"
          }
        },
        "d8b0126610804a479e78320a2b9140cd": {
          "model_module": "@jupyter-widgets/base",
          "model_name": "LayoutModel",
          "model_module_version": "1.2.0",
          "state": {
            "_model_module": "@jupyter-widgets/base",
            "_model_module_version": "1.2.0",
            "_model_name": "LayoutModel",
            "_view_count": null,
            "_view_module": "@jupyter-widgets/base",
            "_view_module_version": "1.2.0",
            "_view_name": "LayoutView",
            "align_content": null,
            "align_items": null,
            "align_self": null,
            "border": null,
            "bottom": null,
            "display": null,
            "flex": null,
            "flex_flow": null,
            "grid_area": null,
            "grid_auto_columns": null,
            "grid_auto_flow": null,
            "grid_auto_rows": null,
            "grid_column": null,
            "grid_gap": null,
            "grid_row": null,
            "grid_template_areas": null,
            "grid_template_columns": null,
            "grid_template_rows": null,
            "height": null,
            "justify_content": null,
            "justify_items": null,
            "left": null,
            "margin": null,
            "max_height": null,
            "max_width": null,
            "min_height": null,
            "min_width": null,
            "object_fit": null,
            "object_position": null,
            "order": null,
            "overflow": null,
            "overflow_x": null,
            "overflow_y": null,
            "padding": null,
            "right": null,
            "top": null,
            "visibility": null,
            "width": null
          }
        },
        "1ce18d6fe5384b0582a7595dae73c136": {
          "model_module": "@jupyter-widgets/controls",
          "model_name": "DescriptionStyleModel",
          "model_module_version": "1.5.0",
          "state": {
            "_model_module": "@jupyter-widgets/controls",
            "_model_module_version": "1.5.0",
            "_model_name": "DescriptionStyleModel",
            "_view_count": null,
            "_view_module": "@jupyter-widgets/base",
            "_view_module_version": "1.2.0",
            "_view_name": "StyleView",
            "description_width": ""
          }
        }
      }
    }
  },
  "cells": [
    {
      "cell_type": "code",
      "source": [
        "# add your drive shortcut to your colab\n",
        "from google.colab import drive\n",
        "drive.mount('/content/drive')"
      ],
      "metadata": {
        "colab": {
          "base_uri": "https://localhost:8080/"
        },
        "id": "D8bRWZ9dihSK",
        "outputId": "1eb662c4-0056-48c3-ed6e-75127d23625a"
      },
      "execution_count": null,
      "outputs": [
        {
          "output_type": "stream",
          "name": "stdout",
          "text": [
            "Mounted at /content/drive\n"
          ]
        }
      ]
    },
    {
      "cell_type": "markdown",
      "source": [
        "## Data Preprocessing"
      ],
      "metadata": {
        "id": "45uDZHxSc-2D"
      }
    },
    {
      "cell_type": "code",
      "source": [
        "# import packages\n",
        "import sys\n",
        "import time\n",
        "\n",
        "import numpy as np\n",
        "import pandas as pd\n",
        "from tqdm import tqdm\n",
        "\n",
        "import nltk\n",
        "import gensim\n",
        "from textblob import Word\n",
        "from nltk.corpus import stopwords\n",
        "from sklearn.model_selection import train_test_split\n",
        "\n",
        "nltk.download('wordnet')\n",
        "nltk.download('stopwords')\n",
        "nltk.download('omw-1.4')\n",
        "STOPWORD_LIST = stopwords.words('english')"
      ],
      "metadata": {
        "colab": {
          "base_uri": "https://localhost:8080/"
        },
        "id": "qe0lR7gdjScG",
        "outputId": "5081d0a5-e2b6-413f-fb95-8b8bf605339e"
      },
      "execution_count": null,
      "outputs": [
        {
          "output_type": "stream",
          "name": "stderr",
          "text": [
            "[nltk_data] Downloading package wordnet to /root/nltk_data...\n",
            "[nltk_data] Downloading package stopwords to /root/nltk_data...\n",
            "[nltk_data]   Unzipping corpora/stopwords.zip.\n",
            "[nltk_data] Downloading package omw-1.4 to /root/nltk_data...\n"
          ]
        }
      ]
    },
    {
      "cell_type": "code",
      "source": [
        "# read data\n",
        "default_path = r\"/content/drive/MyDrive/FRE_GY_7043_Capstone_Project/Industry_Tags/\""
      ],
      "metadata": {
        "id": "UHu49Ffvs3ZY"
      },
      "execution_count": null,
      "outputs": []
    },
    {
      "cell_type": "code",
      "source": [
        "def get_data(path):\n",
        "    \"\"\"\n",
        "    Read data: From work directory, from parquet to pandas dataframe\n",
        "    Clean data: Concatenate all the columns of dataframe to a single column dataframe\n",
        "        which is of concatenated string data type\n",
        "\n",
        "    :param path: string; default file path\n",
        "    :return: pd.DataFrame; pandas dataframe wrt features and labels (target)\n",
        "    \"\"\"\n",
        "    # target/label\n",
        "    dv = pd.read_parquet(path + 'data_vendor.parquet').rename(columns={'target': 'target_dv'})\n",
        "    es = pd.read_parquet(path + 'enterprise_software.parquet').rename(columns={'target': 'target_es'})\n",
        "    ft = pd.read_parquet(path + 'fintech.parquet').rename(columns={'target': 'target_ft'})\n",
        "\n",
        "    # feature/text\n",
        "    wb = pd.read_parquet(path + 'WebsiteTxt.parquet').set_index('domain_name')\n",
        "\n",
        "    # extract and concatenate content_txt & website summary since they have most information\n",
        "    df = wb[[\"content_txt\", \"website_summary\"]]\n",
        "    # df[df.isna()] = ' '  # set None to space, avoid invalid string concat\n",
        "    # df.loc[:, 'feature'] = df['domain_name']\n",
        "    # df.set_index('domain_name', inplace=True)\n",
        "    # for col in df.columns:\n",
        "    #     df['feature'] = df['feature'].str.cat(df[col], sep=' ')\n",
        "\n",
        "    # feature is a concatenated str of content_txt and website summary\n",
        "    df = df.fillna(' ')\n",
        "    df['feature'] = df['content_txt'].str.cat(df['website_summary'], sep=' ')\n",
        "    \n",
        "    return pd.concat([df, dv, es, ft], axis=1).dropna()"
      ],
      "metadata": {
        "id": "Utt0FtCds3b4"
      },
      "execution_count": null,
      "outputs": []
    },
    {
      "cell_type": "code",
      "source": [
        "data = get_data(default_path)\n",
        "data.head()"
      ],
      "metadata": {
        "colab": {
          "base_uri": "https://localhost:8080/",
          "height": 368
        },
        "id": "Tz2qUIkCs3ef",
        "outputId": "4979d5f2-3113-4c07-f390-df603fbacf2a"
      },
      "execution_count": null,
      "outputs": [
        {
          "output_type": "execute_result",
          "data": {
            "text/plain": [
              "                                                         content_txt  \\\n",
              "domain_name                                                            \n",
              "thrivemarket.com   instructions how to enable javascript in your ...   \n",
              "madison-reed.com   for all shades of hair color shop now. home. g...   \n",
              "beautycounter.com  skip to. your bag. skip to. navigation. skip t...   \n",
              "swivelbeauty.com   about us. blog. search. stylist sign up. regis...   \n",
              "wantable.com       one more step. please complete the security ch...   \n",
              "\n",
              "                                                     website_summary  \\\n",
              "domain_name                                                            \n",
              "thrivemarket.com   buy healthy food from top-selling, organic bra...   \n",
              "madison-reed.com   professional hair color and hair color product...   \n",
              "beautycounter.com  shop clean beauty and safer skin care for all ...   \n",
              "swivelbeauty.com                                                       \n",
              "wantable.com                                                           \n",
              "\n",
              "                                                             feature  \\\n",
              "domain_name                                                            \n",
              "thrivemarket.com   instructions how to enable javascript in your ...   \n",
              "madison-reed.com   for all shades of hair color shop now. home. g...   \n",
              "beautycounter.com  skip to. your bag. skip to. navigation. skip t...   \n",
              "swivelbeauty.com   about us. blog. search. stylist sign up. regis...   \n",
              "wantable.com       one more step. please complete the security ch...   \n",
              "\n",
              "                   target_dv  target_es  target_ft  \n",
              "domain_name                                         \n",
              "thrivemarket.com         0.0        0.0        0.0  \n",
              "madison-reed.com         0.0        0.0        0.0  \n",
              "beautycounter.com        0.0        0.0        0.0  \n",
              "swivelbeauty.com         0.0        0.0        0.0  \n",
              "wantable.com             0.0        0.0        0.0  "
            ],
            "text/html": [
              "\n",
              "  <div id=\"df-f1fb5f7c-2186-4935-bb03-f1f0d8fb24bc\">\n",
              "    <div class=\"colab-df-container\">\n",
              "      <div>\n",
              "<style scoped>\n",
              "    .dataframe tbody tr th:only-of-type {\n",
              "        vertical-align: middle;\n",
              "    }\n",
              "\n",
              "    .dataframe tbody tr th {\n",
              "        vertical-align: top;\n",
              "    }\n",
              "\n",
              "    .dataframe thead th {\n",
              "        text-align: right;\n",
              "    }\n",
              "</style>\n",
              "<table border=\"1\" class=\"dataframe\">\n",
              "  <thead>\n",
              "    <tr style=\"text-align: right;\">\n",
              "      <th></th>\n",
              "      <th>content_txt</th>\n",
              "      <th>website_summary</th>\n",
              "      <th>feature</th>\n",
              "      <th>target_dv</th>\n",
              "      <th>target_es</th>\n",
              "      <th>target_ft</th>\n",
              "    </tr>\n",
              "    <tr>\n",
              "      <th>domain_name</th>\n",
              "      <th></th>\n",
              "      <th></th>\n",
              "      <th></th>\n",
              "      <th></th>\n",
              "      <th></th>\n",
              "      <th></th>\n",
              "    </tr>\n",
              "  </thead>\n",
              "  <tbody>\n",
              "    <tr>\n",
              "      <th>thrivemarket.com</th>\n",
              "      <td>instructions how to enable javascript in your ...</td>\n",
              "      <td>buy healthy food from top-selling, organic bra...</td>\n",
              "      <td>instructions how to enable javascript in your ...</td>\n",
              "      <td>0.0</td>\n",
              "      <td>0.0</td>\n",
              "      <td>0.0</td>\n",
              "    </tr>\n",
              "    <tr>\n",
              "      <th>madison-reed.com</th>\n",
              "      <td>for all shades of hair color shop now. home. g...</td>\n",
              "      <td>professional hair color and hair color product...</td>\n",
              "      <td>for all shades of hair color shop now. home. g...</td>\n",
              "      <td>0.0</td>\n",
              "      <td>0.0</td>\n",
              "      <td>0.0</td>\n",
              "    </tr>\n",
              "    <tr>\n",
              "      <th>beautycounter.com</th>\n",
              "      <td>skip to. your bag. skip to. navigation. skip t...</td>\n",
              "      <td>shop clean beauty and safer skin care for all ...</td>\n",
              "      <td>skip to. your bag. skip to. navigation. skip t...</td>\n",
              "      <td>0.0</td>\n",
              "      <td>0.0</td>\n",
              "      <td>0.0</td>\n",
              "    </tr>\n",
              "    <tr>\n",
              "      <th>swivelbeauty.com</th>\n",
              "      <td>about us. blog. search. stylist sign up. regis...</td>\n",
              "      <td></td>\n",
              "      <td>about us. blog. search. stylist sign up. regis...</td>\n",
              "      <td>0.0</td>\n",
              "      <td>0.0</td>\n",
              "      <td>0.0</td>\n",
              "    </tr>\n",
              "    <tr>\n",
              "      <th>wantable.com</th>\n",
              "      <td>one more step. please complete the security ch...</td>\n",
              "      <td></td>\n",
              "      <td>one more step. please complete the security ch...</td>\n",
              "      <td>0.0</td>\n",
              "      <td>0.0</td>\n",
              "      <td>0.0</td>\n",
              "    </tr>\n",
              "  </tbody>\n",
              "</table>\n",
              "</div>\n",
              "      <button class=\"colab-df-convert\" onclick=\"convertToInteractive('df-f1fb5f7c-2186-4935-bb03-f1f0d8fb24bc')\"\n",
              "              title=\"Convert this dataframe to an interactive table.\"\n",
              "              style=\"display:none;\">\n",
              "        \n",
              "  <svg xmlns=\"http://www.w3.org/2000/svg\" height=\"24px\"viewBox=\"0 0 24 24\"\n",
              "       width=\"24px\">\n",
              "    <path d=\"M0 0h24v24H0V0z\" fill=\"none\"/>\n",
              "    <path d=\"M18.56 5.44l.94 2.06.94-2.06 2.06-.94-2.06-.94-.94-2.06-.94 2.06-2.06.94zm-11 1L8.5 8.5l.94-2.06 2.06-.94-2.06-.94L8.5 2.5l-.94 2.06-2.06.94zm10 10l.94 2.06.94-2.06 2.06-.94-2.06-.94-.94-2.06-.94 2.06-2.06.94z\"/><path d=\"M17.41 7.96l-1.37-1.37c-.4-.4-.92-.59-1.43-.59-.52 0-1.04.2-1.43.59L10.3 9.45l-7.72 7.72c-.78.78-.78 2.05 0 2.83L4 21.41c.39.39.9.59 1.41.59.51 0 1.02-.2 1.41-.59l7.78-7.78 2.81-2.81c.8-.78.8-2.07 0-2.86zM5.41 20L4 18.59l7.72-7.72 1.47 1.35L5.41 20z\"/>\n",
              "  </svg>\n",
              "      </button>\n",
              "      \n",
              "  <style>\n",
              "    .colab-df-container {\n",
              "      display:flex;\n",
              "      flex-wrap:wrap;\n",
              "      gap: 12px;\n",
              "    }\n",
              "\n",
              "    .colab-df-convert {\n",
              "      background-color: #E8F0FE;\n",
              "      border: none;\n",
              "      border-radius: 50%;\n",
              "      cursor: pointer;\n",
              "      display: none;\n",
              "      fill: #1967D2;\n",
              "      height: 32px;\n",
              "      padding: 0 0 0 0;\n",
              "      width: 32px;\n",
              "    }\n",
              "\n",
              "    .colab-df-convert:hover {\n",
              "      background-color: #E2EBFA;\n",
              "      box-shadow: 0px 1px 2px rgba(60, 64, 67, 0.3), 0px 1px 3px 1px rgba(60, 64, 67, 0.15);\n",
              "      fill: #174EA6;\n",
              "    }\n",
              "\n",
              "    [theme=dark] .colab-df-convert {\n",
              "      background-color: #3B4455;\n",
              "      fill: #D2E3FC;\n",
              "    }\n",
              "\n",
              "    [theme=dark] .colab-df-convert:hover {\n",
              "      background-color: #434B5C;\n",
              "      box-shadow: 0px 1px 3px 1px rgba(0, 0, 0, 0.15);\n",
              "      filter: drop-shadow(0px 1px 2px rgba(0, 0, 0, 0.3));\n",
              "      fill: #FFFFFF;\n",
              "    }\n",
              "  </style>\n",
              "\n",
              "      <script>\n",
              "        const buttonEl =\n",
              "          document.querySelector('#df-f1fb5f7c-2186-4935-bb03-f1f0d8fb24bc button.colab-df-convert');\n",
              "        buttonEl.style.display =\n",
              "          google.colab.kernel.accessAllowed ? 'block' : 'none';\n",
              "\n",
              "        async function convertToInteractive(key) {\n",
              "          const element = document.querySelector('#df-f1fb5f7c-2186-4935-bb03-f1f0d8fb24bc');\n",
              "          const dataTable =\n",
              "            await google.colab.kernel.invokeFunction('convertToInteractive',\n",
              "                                                     [key], {});\n",
              "          if (!dataTable) return;\n",
              "\n",
              "          const docLinkHtml = 'Like what you see? Visit the ' +\n",
              "            '<a target=\"_blank\" href=https://colab.research.google.com/notebooks/data_table.ipynb>data table notebook</a>'\n",
              "            + ' to learn more about interactive tables.';\n",
              "          element.innerHTML = '';\n",
              "          dataTable['output_type'] = 'display_data';\n",
              "          await google.colab.output.renderOutput(dataTable, element);\n",
              "          const docLink = document.createElement('div');\n",
              "          docLink.innerHTML = docLinkHtml;\n",
              "          element.appendChild(docLink);\n",
              "        }\n",
              "      </script>\n",
              "    </div>\n",
              "  </div>\n",
              "  "
            ]
          },
          "metadata": {},
          "execution_count": 9
        }
      ]
    },
    {
      "cell_type": "code",
      "source": [
        "# preprocess data\n",
        "def remove_special_characters(text):\n",
        "    \"\"\"\n",
        "    Remove special characters\n",
        "    Negative character set: [^xyz], [^\\w\\s]: \n",
        "        any character which is mot a word or space will be replaced by ''\n",
        "    :param text: pd.Series of str; text\n",
        "    :return: \n",
        "    \"\"\"\n",
        "    tqdm.pandas(desc=sys._getframe().f_code.co_name)\n",
        "    return text.str.replace('[^\\w\\s]','')\n",
        "\n",
        "\n",
        "def remove_common_words(text, top=10):\n",
        "    \"\"\"\n",
        "    Remove common words\n",
        "    Remove top 10 most frequent words\n",
        "    :param text: pd.Series of str; text\n",
        "    :param top: int; number of most frequent words we want to remove\n",
        "    :return: \n",
        "    \"\"\"\n",
        "    tqdm.pandas(desc=sys._getframe().f_code.co_name)\n",
        "    freq = pd.Series(' '.join(text).split()).value_counts()[:top]\n",
        "    print(f\"top {top} common words: {freq}.\")\n",
        "    return text.apply(lambda x: \" \".join(x for x in x.split() if x not in freq.index))\n",
        "\n",
        "\n",
        "def tokenise_text(text):\n",
        "    \"\"\"\n",
        "    Tokenization by gensim simple preprocess\n",
        "    This function removes punctuations, lowers cases, removes numbers\n",
        "    :param text: pd.Series of str; text\n",
        "    :return: generator\n",
        "    \"\"\"\n",
        "    for sentence in text:\n",
        "        # deacc=True removes punctuations\n",
        "        yield (gensim.utils.simple_preprocess(str(sentence), deacc=True))  \n",
        "\n",
        "\n",
        "def remove_stopwords(text):\n",
        "    \"\"\"\n",
        "    Remove stop words\n",
        "    :param text: pd.Series of list; text\n",
        "    :return: \n",
        "    \"\"\"\n",
        "    tqdm.pandas(desc=sys._getframe().f_code.co_name)\n",
        "    return text.apply(lambda x: [w for w in x if w not in STOPWORD_LIST])\n",
        "\n",
        "\n",
        "def lemmatise_text(text):\n",
        "    \"\"\"\n",
        "    Lemmatise word in texts\n",
        "    :param text: pd.Series of list; text\n",
        "    :return: \n",
        "    \"\"\"\n",
        "    tqdm.pandas(desc=sys._getframe().f_code.co_name)\n",
        "    return text.apply(lambda x: [Word(word).lemmatize() for word in x])\n",
        "\n",
        "\n",
        "def normalise_text(text):\n",
        "    \"\"\"\n",
        "    Integrated pipeline of text preprocessing\n",
        "    :param text: pd.Series of str; text\n",
        "    :return: \n",
        "    \"\"\"\n",
        "    text = remove_special_characters(text)\n",
        "    text = remove_common_words(text)\n",
        "    text = pd.Series(tokenise_text(text))\n",
        "    text = remove_stopwords(text)\n",
        "    text = lemmatise_text(text)\n",
        "    return text\n"
      ],
      "metadata": {
        "id": "dJJ3UIVZs3hM"
      },
      "execution_count": null,
      "outputs": []
    },
    {
      "cell_type": "code",
      "source": [
        "print(data.shape)\n",
        "for col in data.columns[:3]:\n",
        "    print(f\"average length of text in {col} is {np.mean([len(x.split(' ')) for x in data[col]])}\")"
      ],
      "metadata": {
        "colab": {
          "base_uri": "https://localhost:8080/"
        },
        "id": "x0YjX3hXtN4p",
        "outputId": "f2cb79d8-4443-45b9-926b-10a865479f48"
      },
      "execution_count": null,
      "outputs": [
        {
          "output_type": "stream",
          "name": "stdout",
          "text": [
            "(22987, 6)\n",
            "average length of text in content_txt is 698.6111280288859\n",
            "average length of text in website_summary is 17.1250271892809\n",
            "average length of text in feature is 715.7361552181668\n"
          ]
        }
      ]
    },
    {
      "cell_type": "code",
      "source": [
        "# integrated text preprocessing pipeline\n",
        "website_sum = normalise_text(data['website_summary'])\n",
        "content_txt = normalise_text(data['content_txt'])\n",
        "feature_cat = normalise_text(data['feature'])"
      ],
      "metadata": {
        "colab": {
          "base_uri": "https://localhost:8080/"
        },
        "id": "BrU0G7i1tN61",
        "outputId": "757c8830-2736-4bc0-88e0-398191acdca9"
      },
      "execution_count": null,
      "outputs": [
        {
          "output_type": "stream",
          "name": "stdout",
          "text": [
            "top 10 common words: and     18322\n",
            "the      9894\n",
            "to       7697\n",
            "for      7060\n",
            "a        6069\n",
            "of       5357\n",
            "your     4676\n",
            "in       4656\n",
            "is       4586\n",
            "with     4175\n",
            "dtype: int64.\n"
          ]
        },
        {
          "output_type": "stream",
          "name": "stderr",
          "text": [
            "/usr/local/lib/python3.7/dist-packages/ipykernel_launcher.py:11: FutureWarning: The default value of regex will change from True to False in a future version.\n",
            "  # This is added back by InteractiveShellApp.init_path()\n"
          ]
        },
        {
          "output_type": "stream",
          "name": "stdout",
          "text": [
            "top 10 common words: and     397078\n",
            "the     367619\n",
            "to      338353\n",
            "a       201540\n",
            "of      198343\n",
            "for     157364\n",
            "your    151243\n",
            "in      147136\n",
            "with    127639\n",
            "our     117853\n",
            "dtype: int64.\n",
            "top 10 common words: and     415400\n",
            "the     377513\n",
            "to      346050\n",
            "a       207609\n",
            "of      203700\n",
            "for     164424\n",
            "your    155919\n",
            "in      151792\n",
            "with    131814\n",
            "our     120450\n",
            "dtype: int64.\n"
          ]
        }
      ]
    },
    {
      "cell_type": "code",
      "source": [
        "data.loc[:, 'website_sum_token'] = website_sum.values\n",
        "data.loc[:, 'content_txt_token'] = content_txt.values\n",
        "data.loc[:, 'feature_cat_token'] = feature_cat.values\n",
        "data.head()"
      ],
      "metadata": {
        "id": "rBqmnw0ltXMZ",
        "colab": {
          "base_uri": "https://localhost:8080/",
          "height": 649
        },
        "outputId": "96d6a2cc-a198-4027-de8b-491010a25d72"
      },
      "execution_count": null,
      "outputs": [
        {
          "output_type": "execute_result",
          "data": {
            "text/plain": [
              "                                                         content_txt  \\\n",
              "domain_name                                                            \n",
              "thrivemarket.com   instructions how to enable javascript in your ...   \n",
              "madison-reed.com   for all shades of hair color shop now. home. g...   \n",
              "beautycounter.com  skip to. your bag. skip to. navigation. skip t...   \n",
              "swivelbeauty.com   about us. blog. search. stylist sign up. regis...   \n",
              "wantable.com       one more step. please complete the security ch...   \n",
              "\n",
              "                                                     website_summary  \\\n",
              "domain_name                                                            \n",
              "thrivemarket.com   buy healthy food from top-selling, organic bra...   \n",
              "madison-reed.com   professional hair color and hair color product...   \n",
              "beautycounter.com  shop clean beauty and safer skin care for all ...   \n",
              "swivelbeauty.com                                                       \n",
              "wantable.com                                                           \n",
              "\n",
              "                                                             feature  \\\n",
              "domain_name                                                            \n",
              "thrivemarket.com   instructions how to enable javascript in your ...   \n",
              "madison-reed.com   for all shades of hair color shop now. home. g...   \n",
              "beautycounter.com  skip to. your bag. skip to. navigation. skip t...   \n",
              "swivelbeauty.com   about us. blog. search. stylist sign up. regis...   \n",
              "wantable.com       one more step. please complete the security ch...   \n",
              "\n",
              "                   target_dv  target_es  target_ft  \\\n",
              "domain_name                                          \n",
              "thrivemarket.com         0.0        0.0        0.0   \n",
              "madison-reed.com         0.0        0.0        0.0   \n",
              "beautycounter.com        0.0        0.0        0.0   \n",
              "swivelbeauty.com         0.0        0.0        0.0   \n",
              "wantable.com             0.0        0.0        0.0   \n",
              "\n",
              "                                                   website_sum_token  \\\n",
              "domain_name                                                            \n",
              "thrivemarket.com   [buy, healthy, food, topselling, organic, bran...   \n",
              "madison-reed.com   [professional, hair, color, hair, color, produ...   \n",
              "beautycounter.com  [shop, clean, beauty, safer, skin, care, skin,...   \n",
              "swivelbeauty.com                                                  []   \n",
              "wantable.com                                                      []   \n",
              "\n",
              "                                                   content_txt_token  \\\n",
              "domain_name                                                            \n",
              "thrivemarket.com   [instruction, enable, javascript, web, browser...   \n",
              "madison-reed.com   [shade, hair, color, shop, home, go, cart, hom...   \n",
              "beautycounter.com  [skip, bag, skip, navigation, skip, main, cont...   \n",
              "swivelbeauty.com   [u, blog, search, stylist, sign, register, sig...   \n",
              "wantable.com       [one, step, please, complete, security, check,...   \n",
              "\n",
              "                                                   feature_cat_token  \n",
              "domain_name                                                           \n",
              "thrivemarket.com   [instruction, enable, javascript, web, browser...  \n",
              "madison-reed.com   [shade, hair, color, shop, home, go, cart, hom...  \n",
              "beautycounter.com  [skip, bag, skip, navigation, skip, main, cont...  \n",
              "swivelbeauty.com   [u, blog, search, stylist, sign, register, sig...  \n",
              "wantable.com       [one, step, please, complete, security, check,...  "
            ],
            "text/html": [
              "\n",
              "  <div id=\"df-f600875d-6871-4ea2-be1e-d39bfd240925\">\n",
              "    <div class=\"colab-df-container\">\n",
              "      <div>\n",
              "<style scoped>\n",
              "    .dataframe tbody tr th:only-of-type {\n",
              "        vertical-align: middle;\n",
              "    }\n",
              "\n",
              "    .dataframe tbody tr th {\n",
              "        vertical-align: top;\n",
              "    }\n",
              "\n",
              "    .dataframe thead th {\n",
              "        text-align: right;\n",
              "    }\n",
              "</style>\n",
              "<table border=\"1\" class=\"dataframe\">\n",
              "  <thead>\n",
              "    <tr style=\"text-align: right;\">\n",
              "      <th></th>\n",
              "      <th>content_txt</th>\n",
              "      <th>website_summary</th>\n",
              "      <th>feature</th>\n",
              "      <th>target_dv</th>\n",
              "      <th>target_es</th>\n",
              "      <th>target_ft</th>\n",
              "      <th>website_sum_token</th>\n",
              "      <th>content_txt_token</th>\n",
              "      <th>feature_cat_token</th>\n",
              "    </tr>\n",
              "    <tr>\n",
              "      <th>domain_name</th>\n",
              "      <th></th>\n",
              "      <th></th>\n",
              "      <th></th>\n",
              "      <th></th>\n",
              "      <th></th>\n",
              "      <th></th>\n",
              "      <th></th>\n",
              "      <th></th>\n",
              "      <th></th>\n",
              "    </tr>\n",
              "  </thead>\n",
              "  <tbody>\n",
              "    <tr>\n",
              "      <th>thrivemarket.com</th>\n",
              "      <td>instructions how to enable javascript in your ...</td>\n",
              "      <td>buy healthy food from top-selling, organic bra...</td>\n",
              "      <td>instructions how to enable javascript in your ...</td>\n",
              "      <td>0.0</td>\n",
              "      <td>0.0</td>\n",
              "      <td>0.0</td>\n",
              "      <td>[buy, healthy, food, topselling, organic, bran...</td>\n",
              "      <td>[instruction, enable, javascript, web, browser...</td>\n",
              "      <td>[instruction, enable, javascript, web, browser...</td>\n",
              "    </tr>\n",
              "    <tr>\n",
              "      <th>madison-reed.com</th>\n",
              "      <td>for all shades of hair color shop now. home. g...</td>\n",
              "      <td>professional hair color and hair color product...</td>\n",
              "      <td>for all shades of hair color shop now. home. g...</td>\n",
              "      <td>0.0</td>\n",
              "      <td>0.0</td>\n",
              "      <td>0.0</td>\n",
              "      <td>[professional, hair, color, hair, color, produ...</td>\n",
              "      <td>[shade, hair, color, shop, home, go, cart, hom...</td>\n",
              "      <td>[shade, hair, color, shop, home, go, cart, hom...</td>\n",
              "    </tr>\n",
              "    <tr>\n",
              "      <th>beautycounter.com</th>\n",
              "      <td>skip to. your bag. skip to. navigation. skip t...</td>\n",
              "      <td>shop clean beauty and safer skin care for all ...</td>\n",
              "      <td>skip to. your bag. skip to. navigation. skip t...</td>\n",
              "      <td>0.0</td>\n",
              "      <td>0.0</td>\n",
              "      <td>0.0</td>\n",
              "      <td>[shop, clean, beauty, safer, skin, care, skin,...</td>\n",
              "      <td>[skip, bag, skip, navigation, skip, main, cont...</td>\n",
              "      <td>[skip, bag, skip, navigation, skip, main, cont...</td>\n",
              "    </tr>\n",
              "    <tr>\n",
              "      <th>swivelbeauty.com</th>\n",
              "      <td>about us. blog. search. stylist sign up. regis...</td>\n",
              "      <td></td>\n",
              "      <td>about us. blog. search. stylist sign up. regis...</td>\n",
              "      <td>0.0</td>\n",
              "      <td>0.0</td>\n",
              "      <td>0.0</td>\n",
              "      <td>[]</td>\n",
              "      <td>[u, blog, search, stylist, sign, register, sig...</td>\n",
              "      <td>[u, blog, search, stylist, sign, register, sig...</td>\n",
              "    </tr>\n",
              "    <tr>\n",
              "      <th>wantable.com</th>\n",
              "      <td>one more step. please complete the security ch...</td>\n",
              "      <td></td>\n",
              "      <td>one more step. please complete the security ch...</td>\n",
              "      <td>0.0</td>\n",
              "      <td>0.0</td>\n",
              "      <td>0.0</td>\n",
              "      <td>[]</td>\n",
              "      <td>[one, step, please, complete, security, check,...</td>\n",
              "      <td>[one, step, please, complete, security, check,...</td>\n",
              "    </tr>\n",
              "  </tbody>\n",
              "</table>\n",
              "</div>\n",
              "      <button class=\"colab-df-convert\" onclick=\"convertToInteractive('df-f600875d-6871-4ea2-be1e-d39bfd240925')\"\n",
              "              title=\"Convert this dataframe to an interactive table.\"\n",
              "              style=\"display:none;\">\n",
              "        \n",
              "  <svg xmlns=\"http://www.w3.org/2000/svg\" height=\"24px\"viewBox=\"0 0 24 24\"\n",
              "       width=\"24px\">\n",
              "    <path d=\"M0 0h24v24H0V0z\" fill=\"none\"/>\n",
              "    <path d=\"M18.56 5.44l.94 2.06.94-2.06 2.06-.94-2.06-.94-.94-2.06-.94 2.06-2.06.94zm-11 1L8.5 8.5l.94-2.06 2.06-.94-2.06-.94L8.5 2.5l-.94 2.06-2.06.94zm10 10l.94 2.06.94-2.06 2.06-.94-2.06-.94-.94-2.06-.94 2.06-2.06.94z\"/><path d=\"M17.41 7.96l-1.37-1.37c-.4-.4-.92-.59-1.43-.59-.52 0-1.04.2-1.43.59L10.3 9.45l-7.72 7.72c-.78.78-.78 2.05 0 2.83L4 21.41c.39.39.9.59 1.41.59.51 0 1.02-.2 1.41-.59l7.78-7.78 2.81-2.81c.8-.78.8-2.07 0-2.86zM5.41 20L4 18.59l7.72-7.72 1.47 1.35L5.41 20z\"/>\n",
              "  </svg>\n",
              "      </button>\n",
              "      \n",
              "  <style>\n",
              "    .colab-df-container {\n",
              "      display:flex;\n",
              "      flex-wrap:wrap;\n",
              "      gap: 12px;\n",
              "    }\n",
              "\n",
              "    .colab-df-convert {\n",
              "      background-color: #E8F0FE;\n",
              "      border: none;\n",
              "      border-radius: 50%;\n",
              "      cursor: pointer;\n",
              "      display: none;\n",
              "      fill: #1967D2;\n",
              "      height: 32px;\n",
              "      padding: 0 0 0 0;\n",
              "      width: 32px;\n",
              "    }\n",
              "\n",
              "    .colab-df-convert:hover {\n",
              "      background-color: #E2EBFA;\n",
              "      box-shadow: 0px 1px 2px rgba(60, 64, 67, 0.3), 0px 1px 3px 1px rgba(60, 64, 67, 0.15);\n",
              "      fill: #174EA6;\n",
              "    }\n",
              "\n",
              "    [theme=dark] .colab-df-convert {\n",
              "      background-color: #3B4455;\n",
              "      fill: #D2E3FC;\n",
              "    }\n",
              "\n",
              "    [theme=dark] .colab-df-convert:hover {\n",
              "      background-color: #434B5C;\n",
              "      box-shadow: 0px 1px 3px 1px rgba(0, 0, 0, 0.15);\n",
              "      filter: drop-shadow(0px 1px 2px rgba(0, 0, 0, 0.3));\n",
              "      fill: #FFFFFF;\n",
              "    }\n",
              "  </style>\n",
              "\n",
              "      <script>\n",
              "        const buttonEl =\n",
              "          document.querySelector('#df-f600875d-6871-4ea2-be1e-d39bfd240925 button.colab-df-convert');\n",
              "        buttonEl.style.display =\n",
              "          google.colab.kernel.accessAllowed ? 'block' : 'none';\n",
              "\n",
              "        async function convertToInteractive(key) {\n",
              "          const element = document.querySelector('#df-f600875d-6871-4ea2-be1e-d39bfd240925');\n",
              "          const dataTable =\n",
              "            await google.colab.kernel.invokeFunction('convertToInteractive',\n",
              "                                                     [key], {});\n",
              "          if (!dataTable) return;\n",
              "\n",
              "          const docLinkHtml = 'Like what you see? Visit the ' +\n",
              "            '<a target=\"_blank\" href=https://colab.research.google.com/notebooks/data_table.ipynb>data table notebook</a>'\n",
              "            + ' to learn more about interactive tables.';\n",
              "          element.innerHTML = '';\n",
              "          dataTable['output_type'] = 'display_data';\n",
              "          await google.colab.output.renderOutput(dataTable, element);\n",
              "          const docLink = document.createElement('div');\n",
              "          docLink.innerHTML = docLinkHtml;\n",
              "          element.appendChild(docLink);\n",
              "        }\n",
              "      </script>\n",
              "    </div>\n",
              "  </div>\n",
              "  "
            ]
          },
          "metadata": {},
          "execution_count": 13
        }
      ]
    },
    {
      "cell_type": "code",
      "source": [
        "# data.to_csv(default_path + 'preprocessed_data.csv')"
      ],
      "metadata": {
        "id": "GhvrLL4XtXOy"
      },
      "execution_count": null,
      "outputs": []
    },
    {
      "cell_type": "code",
      "source": [
        "# read data from Google Drive working directory\n",
        "# data = pd.read_csv(default_path + 'preprocessed_data.csv')\n",
        "# data.feature_cat_token"
      ],
      "metadata": {
        "id": "iTxwevQHtXRp"
      },
      "execution_count": null,
      "outputs": []
    },
    {
      "cell_type": "code",
      "source": [
        ""
      ],
      "metadata": {
        "id": "sULYqvOLtXWt"
      },
      "execution_count": null,
      "outputs": []
    },
    {
      "cell_type": "markdown",
      "source": [
        "## Few Shot Learning Test"
      ],
      "metadata": {
        "id": "ljOM7GxpdE8u"
      }
    },
    {
      "cell_type": "code",
      "execution_count": null,
      "metadata": {
        "colab": {
          "base_uri": "https://localhost:8080/"
        },
        "id": "ea2uMLDpXrDY",
        "outputId": "ae3a6892-dc16-40eb-8e3c-7debfd0373d3"
      },
      "outputs": [
        {
          "output_type": "stream",
          "name": "stdout",
          "text": [
            "Cloning into 'few-shot-text-classification'...\n",
            "remote: Enumerating objects: 969, done.\u001b[K\n",
            "remote: Counting objects: 100% (55/55), done.\u001b[K\n",
            "remote: Compressing objects: 100% (18/18), done.\u001b[K\n",
            "remote: Total 969 (delta 46), reused 37 (delta 37), pack-reused 914\u001b[K\n",
            "Receiving objects: 100% (969/969), 122.66 MiB | 32.73 MiB/s, done.\n",
            "Resolving deltas: 100% (611/611), done.\n"
          ]
        }
      ],
      "source": [
        "# clone our few-shot repo\n",
        "!git clone https://github.com/fastforwardlabs/few-shot-text-classification.git"
      ]
    },
    {
      "cell_type": "code",
      "source": [
        "!mv few-shot-text-classification/fewshot . \n",
        "!mv few-shot-text-classification/setup.py .\n",
        "!mv few-shot-text-classification/data ."
      ],
      "metadata": {
        "id": "Ybu3a9ECX3_j"
      },
      "execution_count": null,
      "outputs": []
    },
    {
      "cell_type": "code",
      "source": [
        "!pip3 install datasets==1.1.2\n",
        "!pip3 install transformers==3.3.0\n",
        "!pip3 install -e ."
      ],
      "metadata": {
        "colab": {
          "base_uri": "https://localhost:8080/"
        },
        "id": "UMVNIQbCX74Z",
        "outputId": "8baac509-d5f0-4747-d7e6-cc2d80623fb0"
      },
      "execution_count": null,
      "outputs": [
        {
          "output_type": "stream",
          "name": "stdout",
          "text": [
            "Looking in indexes: https://pypi.org/simple, https://us-python.pkg.dev/colab-wheels/public/simple/\n",
            "Collecting datasets==1.1.2\n",
            "  Downloading datasets-1.1.2-py3-none-any.whl (147 kB)\n",
            "\u001b[K     |████████████████████████████████| 147 kB 7.0 MB/s \n",
            "\u001b[?25hRequirement already satisfied: pyarrow>=0.17.1 in /usr/local/lib/python3.7/dist-packages (from datasets==1.1.2) (6.0.1)\n",
            "Requirement already satisfied: numpy>=1.17 in /usr/local/lib/python3.7/dist-packages (from datasets==1.1.2) (1.21.6)\n",
            "Collecting tqdm<4.50.0,>=4.27\n",
            "  Downloading tqdm-4.49.0-py2.py3-none-any.whl (69 kB)\n",
            "\u001b[K     |████████████████████████████████| 69 kB 9.2 MB/s \n",
            "\u001b[?25hRequirement already satisfied: filelock in /usr/local/lib/python3.7/dist-packages (from datasets==1.1.2) (3.7.1)\n",
            "Requirement already satisfied: requests>=2.19.0 in /usr/local/lib/python3.7/dist-packages (from datasets==1.1.2) (2.23.0)\n",
            "Collecting xxhash\n",
            "  Downloading xxhash-3.0.0-cp37-cp37m-manylinux_2_17_x86_64.manylinux2014_x86_64.whl (212 kB)\n",
            "\u001b[K     |████████████████████████████████| 212 kB 66.2 MB/s \n",
            "\u001b[?25hRequirement already satisfied: dill in /usr/local/lib/python3.7/dist-packages (from datasets==1.1.2) (0.3.5.1)\n",
            "Requirement already satisfied: pandas in /usr/local/lib/python3.7/dist-packages (from datasets==1.1.2) (1.3.5)\n",
            "Collecting multiprocess\n",
            "  Downloading multiprocess-0.70.13-py37-none-any.whl (115 kB)\n",
            "\u001b[K     |████████████████████████████████| 115 kB 69.5 MB/s \n",
            "\u001b[?25hRequirement already satisfied: certifi>=2017.4.17 in /usr/local/lib/python3.7/dist-packages (from requests>=2.19.0->datasets==1.1.2) (2022.6.15)\n",
            "Requirement already satisfied: chardet<4,>=3.0.2 in /usr/local/lib/python3.7/dist-packages (from requests>=2.19.0->datasets==1.1.2) (3.0.4)\n",
            "Requirement already satisfied: idna<3,>=2.5 in /usr/local/lib/python3.7/dist-packages (from requests>=2.19.0->datasets==1.1.2) (2.10)\n",
            "Requirement already satisfied: urllib3!=1.25.0,!=1.25.1,<1.26,>=1.21.1 in /usr/local/lib/python3.7/dist-packages (from requests>=2.19.0->datasets==1.1.2) (1.24.3)\n",
            "Requirement already satisfied: python-dateutil>=2.7.3 in /usr/local/lib/python3.7/dist-packages (from pandas->datasets==1.1.2) (2.8.2)\n",
            "Requirement already satisfied: pytz>=2017.3 in /usr/local/lib/python3.7/dist-packages (from pandas->datasets==1.1.2) (2022.1)\n",
            "Requirement already satisfied: six>=1.5 in /usr/local/lib/python3.7/dist-packages (from python-dateutil>=2.7.3->pandas->datasets==1.1.2) (1.15.0)\n",
            "Installing collected packages: xxhash, tqdm, multiprocess, datasets\n",
            "  Attempting uninstall: tqdm\n",
            "    Found existing installation: tqdm 4.64.0\n",
            "    Uninstalling tqdm-4.64.0:\n",
            "      Successfully uninstalled tqdm-4.64.0\n",
            "Successfully installed datasets-1.1.2 multiprocess-0.70.13 tqdm-4.49.0 xxhash-3.0.0\n",
            "Looking in indexes: https://pypi.org/simple, https://us-python.pkg.dev/colab-wheels/public/simple/\n",
            "Collecting transformers==3.3.0\n",
            "  Downloading transformers-3.3.0-py3-none-any.whl (1.1 MB)\n",
            "\u001b[K     |████████████████████████████████| 1.1 MB 8.9 MB/s \n",
            "\u001b[?25hRequirement already satisfied: packaging in /usr/local/lib/python3.7/dist-packages (from transformers==3.3.0) (21.3)\n",
            "Requirement already satisfied: numpy in /usr/local/lib/python3.7/dist-packages (from transformers==3.3.0) (1.21.6)\n",
            "Requirement already satisfied: tqdm>=4.27 in /usr/local/lib/python3.7/dist-packages (from transformers==3.3.0) (4.49.0)\n",
            "Collecting sacremoses\n",
            "  Downloading sacremoses-0.0.53.tar.gz (880 kB)\n",
            "\u001b[K     |████████████████████████████████| 880 kB 60.4 MB/s \n",
            "\u001b[?25hRequirement already satisfied: requests in /usr/local/lib/python3.7/dist-packages (from transformers==3.3.0) (2.23.0)\n",
            "Requirement already satisfied: regex!=2019.12.17 in /usr/local/lib/python3.7/dist-packages (from transformers==3.3.0) (2022.6.2)\n",
            "Collecting sentencepiece!=0.1.92\n",
            "  Downloading sentencepiece-0.1.96-cp37-cp37m-manylinux_2_17_x86_64.manylinux2014_x86_64.whl (1.2 MB)\n",
            "\u001b[K     |████████████████████████████████| 1.2 MB 55.8 MB/s \n",
            "\u001b[?25hCollecting tokenizers==0.8.1.rc2\n",
            "  Downloading tokenizers-0.8.1rc2-cp37-cp37m-manylinux1_x86_64.whl (3.0 MB)\n",
            "\u001b[K     |████████████████████████████████| 3.0 MB 56.0 MB/s \n",
            "\u001b[?25hRequirement already satisfied: filelock in /usr/local/lib/python3.7/dist-packages (from transformers==3.3.0) (3.7.1)\n",
            "Requirement already satisfied: pyparsing!=3.0.5,>=2.0.2 in /usr/local/lib/python3.7/dist-packages (from packaging->transformers==3.3.0) (3.0.9)\n",
            "Requirement already satisfied: urllib3!=1.25.0,!=1.25.1,<1.26,>=1.21.1 in /usr/local/lib/python3.7/dist-packages (from requests->transformers==3.3.0) (1.24.3)\n",
            "Requirement already satisfied: idna<3,>=2.5 in /usr/local/lib/python3.7/dist-packages (from requests->transformers==3.3.0) (2.10)\n",
            "Requirement already satisfied: certifi>=2017.4.17 in /usr/local/lib/python3.7/dist-packages (from requests->transformers==3.3.0) (2022.6.15)\n",
            "Requirement already satisfied: chardet<4,>=3.0.2 in /usr/local/lib/python3.7/dist-packages (from requests->transformers==3.3.0) (3.0.4)\n",
            "Requirement already satisfied: six in /usr/local/lib/python3.7/dist-packages (from sacremoses->transformers==3.3.0) (1.15.0)\n",
            "Requirement already satisfied: click in /usr/local/lib/python3.7/dist-packages (from sacremoses->transformers==3.3.0) (7.1.2)\n",
            "Requirement already satisfied: joblib in /usr/local/lib/python3.7/dist-packages (from sacremoses->transformers==3.3.0) (1.1.0)\n",
            "Building wheels for collected packages: sacremoses\n",
            "  Building wheel for sacremoses (setup.py) ... \u001b[?25l\u001b[?25hdone\n",
            "  Created wheel for sacremoses: filename=sacremoses-0.0.53-py3-none-any.whl size=895260 sha256=9dd3042f058e6c6f19c867ec92d2b882356653c65f921169d94505cba359ba50\n",
            "  Stored in directory: /root/.cache/pip/wheels/87/39/dd/a83eeef36d0bf98e7a4d1933a4ad2d660295a40613079bafc9\n",
            "Successfully built sacremoses\n",
            "Installing collected packages: tokenizers, sentencepiece, sacremoses, transformers\n",
            "Successfully installed sacremoses-0.0.53 sentencepiece-0.1.96 tokenizers-0.8.1rc2 transformers-3.3.0\n",
            "Looking in indexes: https://pypi.org/simple, https://us-python.pkg.dev/colab-wheels/public/simple/\n",
            "Obtaining file:///content\n",
            "Installing collected packages: fewshot\n",
            "  Running setup.py develop for fewshot\n",
            "Successfully installed fewshot-0.0.1\n"
          ]
        }
      ]
    },
    {
      "cell_type": "code",
      "source": [
        "import os\n",
        "import pandas as pd\n",
        "import numpy as np\n",
        "from sklearn.model_selection import train_test_split\n",
        "import matplotlib.pyplot as plt\n",
        "import torch\n",
        "\n",
        "from fewshot.data.loaders import (\n",
        "    load_or_cache_data, \n",
        "    _load_agnews_dataset,\n",
        "    _create_dataset_from_df\n",
        ")\n",
        "\n",
        "from fewshot.data.utils import select_subsample, expand_labels\n",
        "\n",
        "from fewshot.embeddings.sentence_embeddings import (\n",
        "    load_transformer_model_and_tokenizer,\n",
        "    get_sentence_embeddings,\n",
        ")\n",
        "\n",
        "from fewshot.models.on_the_fly import OLS_with_l2_regularization\n",
        "\n",
        "from fewshot.models.few_shot import (\n",
        "    FewShotLinearRegression, \n",
        "    BayesianMSELoss,\n",
        "    prepare_dataloader,\n",
        "    train,\n",
        ")   \n",
        "\n",
        "from fewshot.eval import predict_and_score\n",
        "\n",
        "from fewshot.utils import (\n",
        "    fewshot_filename,\n",
        "    torch_load,\n",
        "    torch_save,\n",
        "    pickle_load,\n",
        "    pickle_save,\n",
        "    to_tensor,\n",
        "    to_list,\n",
        ")\n"
      ],
      "metadata": {
        "id": "RLWX9DwKX-gv"
      },
      "execution_count": null,
      "outputs": []
    },
    {
      "cell_type": "code",
      "source": [
        "import nltk\n",
        "nltk.download('stopwords')\n",
        "nltk.download('punkt')"
      ],
      "metadata": {
        "colab": {
          "base_uri": "https://localhost:8080/"
        },
        "id": "IR3LrMg6YHCU",
        "outputId": "0d10a67a-8dca-4f2f-9d93-e67d2837c838"
      },
      "execution_count": null,
      "outputs": [
        {
          "output_type": "stream",
          "name": "stderr",
          "text": [
            "[nltk_data] Downloading package stopwords to /root/nltk_data...\n",
            "[nltk_data]   Package stopwords is already up-to-date!\n",
            "[nltk_data] Downloading package punkt to /root/nltk_data...\n",
            "[nltk_data]   Unzipping tokenizers/punkt.zip.\n"
          ]
        },
        {
          "output_type": "execute_result",
          "data": {
            "text/plain": [
              "True"
            ]
          },
          "metadata": {},
          "execution_count": 14
        }
      ]
    },
    {
      "cell_type": "code",
      "source": [
        "## Load SBERT embedding model\n",
        "model, tokenizer = load_transformer_model_and_tokenizer(\"deepset/sentence_bert\")"
      ],
      "metadata": {
        "id": "1rC6sQabYPoH",
        "colab": {
          "base_uri": "https://localhost:8080/",
          "height": 267,
          "referenced_widgets": [
            "2271095b3c3e439d9de0771cd2f927c3",
            "42187d28f0f14bb7aba7e9c0d5e17387",
            "2192a03398f942908d2b88632eebc333",
            "3e17e13b63d9405abab4655e3a0d74da",
            "36beba7eba304d9fbd177e62b0c2da40",
            "87fe0806c6e6460fb942da5b82ada8f0",
            "7921ec4103e84747a926a5da71158398",
            "10d9365f76bb4f62808fa94e683117b1",
            "98d2a4bf85844fef9ed617b66f62f990",
            "ac2862000ca248e5ab97b3360e487966",
            "862cec9dac8a4502b83baebfce1c9fe5",
            "73b6de8b10b0499385e8f122e95f6b1d",
            "b56304df25c547a5bcf7cbbbbe0ee292",
            "cbb7ffedc358474b8d9230cdd4e8071c",
            "22d001ccf6ae439e8cf5bda7cba187fb",
            "f6e8df4d20bf497cad857c41828298ff",
            "e06c83fb4a7848d49985281bca48c8db",
            "806acc70b64f435b9a8ffe297920b8eb",
            "3af0a411621b4653b348fa321e49e482",
            "101e852796a048d99a06cc403a6b0a9a",
            "11fb1e37fb7742ecb4b5f37004377658",
            "d4aaef05f9ed4c20acd3ae81da655223",
            "85d25c100dd14807a2f5cf6564fc12e7",
            "832af715dede490ab2fd4a4377b180c1",
            "00b81d5426994a9291d903d76d3ba555",
            "c5a241cc50ac4adf952b13ead76cc3ec",
            "72c3152745ff49f581819ffaca372570",
            "6becf4d652294b359d65db23d3583362",
            "916889a59c484d03ba3864ea53c83f95",
            "bf846a0865e24b93828e43bd53dce742",
            "5f896cddb4e64845944e6c29ba5b2425",
            "48925049f17c4e30a50500850399a8eb",
            "cffc06c70041446f8c92b610b246ba01",
            "ea874d13b04b47bfb469c66770db3382",
            "7c6853e74a8a425f8eca2fd940eaf9df",
            "9ebb931d6ceb41c8a07c4e8b1d5bcc99",
            "6406055938ce4a9c8acee7d065647725",
            "c8a54fe8858d4beda88454a4fbda2e9e",
            "d8b0126610804a479e78320a2b9140cd",
            "1ce18d6fe5384b0582a7595dae73c136"
          ]
        },
        "outputId": "3fc468d9-cbfc-4595-9250-d0dcadbea5f6"
      },
      "execution_count": null,
      "outputs": [
        {
          "output_type": "display_data",
          "data": {
            "text/plain": [
              "HBox(children=(FloatProgress(value=0.0, description='Downloading', max=385.0, style=ProgressStyle(description_…"
            ],
            "application/vnd.jupyter.widget-view+json": {
              "version_major": 2,
              "version_minor": 0,
              "model_id": "2271095b3c3e439d9de0771cd2f927c3"
            }
          },
          "metadata": {}
        },
        {
          "output_type": "stream",
          "name": "stdout",
          "text": [
            "\n"
          ]
        },
        {
          "output_type": "display_data",
          "data": {
            "text/plain": [
              "HBox(children=(FloatProgress(value=0.0, description='Downloading', max=231508.0, style=ProgressStyle(descripti…"
            ],
            "application/vnd.jupyter.widget-view+json": {
              "version_major": 2,
              "version_minor": 0,
              "model_id": "98d2a4bf85844fef9ed617b66f62f990"
            }
          },
          "metadata": {}
        },
        {
          "output_type": "stream",
          "name": "stdout",
          "text": [
            "\n"
          ]
        },
        {
          "output_type": "display_data",
          "data": {
            "text/plain": [
              "HBox(children=(FloatProgress(value=0.0, description='Downloading', max=2.0, style=ProgressStyle(description_wi…"
            ],
            "application/vnd.jupyter.widget-view+json": {
              "version_major": 2,
              "version_minor": 0,
              "model_id": "e06c83fb4a7848d49985281bca48c8db"
            }
          },
          "metadata": {}
        },
        {
          "output_type": "stream",
          "name": "stdout",
          "text": [
            "\n"
          ]
        },
        {
          "output_type": "display_data",
          "data": {
            "text/plain": [
              "HBox(children=(FloatProgress(value=0.0, description='Downloading', max=112.0, style=ProgressStyle(description_…"
            ],
            "application/vnd.jupyter.widget-view+json": {
              "version_major": 2,
              "version_minor": 0,
              "model_id": "00b81d5426994a9291d903d76d3ba555"
            }
          },
          "metadata": {}
        },
        {
          "output_type": "stream",
          "name": "stdout",
          "text": [
            "\n"
          ]
        },
        {
          "output_type": "display_data",
          "data": {
            "text/plain": [
              "HBox(children=(FloatProgress(value=0.0, description='Downloading', max=438006864.0, style=ProgressStyle(descri…"
            ],
            "application/vnd.jupyter.widget-view+json": {
              "version_major": 2,
              "version_minor": 0,
              "model_id": "cffc06c70041446f8c92b610b246ba01"
            }
          },
          "metadata": {}
        },
        {
          "output_type": "stream",
          "name": "stdout",
          "text": [
            "\n"
          ]
        }
      ]
    },
    {
      "cell_type": "code",
      "source": [
        ""
      ],
      "metadata": {
        "id": "GAQNJwBNsbTd"
      },
      "execution_count": null,
      "outputs": []
    },
    {
      "cell_type": "markdown",
      "source": [
        "### Test on fintech label"
      ],
      "metadata": {
        "id": "gE_5p_Ohhcmf"
      }
    },
    {
      "cell_type": "code",
      "source": [
        "df_fintech = data[['target_ft', 'feature']].copy()\n",
        "df_fintech.loc[:, 'category'] = np.where(df_fintech['target_ft'] == 1.0, 'Yes', 'No')\n",
        "df_fintech = df_fintech.rename(columns={'target_ft': 'label', 'content_txt': 'text'})\n",
        "df_fintech.head()"
      ],
      "metadata": {
        "colab": {
          "base_uri": "https://localhost:8080/",
          "height": 238
        },
        "id": "DnPI90OMjd0S",
        "outputId": "4847a4a6-bde0-47c7-a8da-97538ce1ff2d"
      },
      "execution_count": null,
      "outputs": [
        {
          "output_type": "execute_result",
          "data": {
            "text/plain": [
              "                   label                                            feature  \\\n",
              "domain_name                                                                   \n",
              "thrivemarket.com     0.0  instructions how to enable javascript in your ...   \n",
              "madison-reed.com     0.0  for all shades of hair color shop now. home. g...   \n",
              "beautycounter.com    0.0  skip to. your bag. skip to. navigation. skip t...   \n",
              "swivelbeauty.com     0.0  about us. blog. search. stylist sign up. regis...   \n",
              "wantable.com         0.0  one more step. please complete the security ch...   \n",
              "\n",
              "                  category  \n",
              "domain_name                 \n",
              "thrivemarket.com        No  \n",
              "madison-reed.com        No  \n",
              "beautycounter.com       No  \n",
              "swivelbeauty.com        No  \n",
              "wantable.com            No  "
            ],
            "text/html": [
              "\n",
              "  <div id=\"df-b351f1e2-b3b2-48f5-a89e-b66ede514cd6\">\n",
              "    <div class=\"colab-df-container\">\n",
              "      <div>\n",
              "<style scoped>\n",
              "    .dataframe tbody tr th:only-of-type {\n",
              "        vertical-align: middle;\n",
              "    }\n",
              "\n",
              "    .dataframe tbody tr th {\n",
              "        vertical-align: top;\n",
              "    }\n",
              "\n",
              "    .dataframe thead th {\n",
              "        text-align: right;\n",
              "    }\n",
              "</style>\n",
              "<table border=\"1\" class=\"dataframe\">\n",
              "  <thead>\n",
              "    <tr style=\"text-align: right;\">\n",
              "      <th></th>\n",
              "      <th>label</th>\n",
              "      <th>feature</th>\n",
              "      <th>category</th>\n",
              "    </tr>\n",
              "    <tr>\n",
              "      <th>domain_name</th>\n",
              "      <th></th>\n",
              "      <th></th>\n",
              "      <th></th>\n",
              "    </tr>\n",
              "  </thead>\n",
              "  <tbody>\n",
              "    <tr>\n",
              "      <th>thrivemarket.com</th>\n",
              "      <td>0.0</td>\n",
              "      <td>instructions how to enable javascript in your ...</td>\n",
              "      <td>No</td>\n",
              "    </tr>\n",
              "    <tr>\n",
              "      <th>madison-reed.com</th>\n",
              "      <td>0.0</td>\n",
              "      <td>for all shades of hair color shop now. home. g...</td>\n",
              "      <td>No</td>\n",
              "    </tr>\n",
              "    <tr>\n",
              "      <th>beautycounter.com</th>\n",
              "      <td>0.0</td>\n",
              "      <td>skip to. your bag. skip to. navigation. skip t...</td>\n",
              "      <td>No</td>\n",
              "    </tr>\n",
              "    <tr>\n",
              "      <th>swivelbeauty.com</th>\n",
              "      <td>0.0</td>\n",
              "      <td>about us. blog. search. stylist sign up. regis...</td>\n",
              "      <td>No</td>\n",
              "    </tr>\n",
              "    <tr>\n",
              "      <th>wantable.com</th>\n",
              "      <td>0.0</td>\n",
              "      <td>one more step. please complete the security ch...</td>\n",
              "      <td>No</td>\n",
              "    </tr>\n",
              "  </tbody>\n",
              "</table>\n",
              "</div>\n",
              "      <button class=\"colab-df-convert\" onclick=\"convertToInteractive('df-b351f1e2-b3b2-48f5-a89e-b66ede514cd6')\"\n",
              "              title=\"Convert this dataframe to an interactive table.\"\n",
              "              style=\"display:none;\">\n",
              "        \n",
              "  <svg xmlns=\"http://www.w3.org/2000/svg\" height=\"24px\"viewBox=\"0 0 24 24\"\n",
              "       width=\"24px\">\n",
              "    <path d=\"M0 0h24v24H0V0z\" fill=\"none\"/>\n",
              "    <path d=\"M18.56 5.44l.94 2.06.94-2.06 2.06-.94-2.06-.94-.94-2.06-.94 2.06-2.06.94zm-11 1L8.5 8.5l.94-2.06 2.06-.94-2.06-.94L8.5 2.5l-.94 2.06-2.06.94zm10 10l.94 2.06.94-2.06 2.06-.94-2.06-.94-.94-2.06-.94 2.06-2.06.94z\"/><path d=\"M17.41 7.96l-1.37-1.37c-.4-.4-.92-.59-1.43-.59-.52 0-1.04.2-1.43.59L10.3 9.45l-7.72 7.72c-.78.78-.78 2.05 0 2.83L4 21.41c.39.39.9.59 1.41.59.51 0 1.02-.2 1.41-.59l7.78-7.78 2.81-2.81c.8-.78.8-2.07 0-2.86zM5.41 20L4 18.59l7.72-7.72 1.47 1.35L5.41 20z\"/>\n",
              "  </svg>\n",
              "      </button>\n",
              "      \n",
              "  <style>\n",
              "    .colab-df-container {\n",
              "      display:flex;\n",
              "      flex-wrap:wrap;\n",
              "      gap: 12px;\n",
              "    }\n",
              "\n",
              "    .colab-df-convert {\n",
              "      background-color: #E8F0FE;\n",
              "      border: none;\n",
              "      border-radius: 50%;\n",
              "      cursor: pointer;\n",
              "      display: none;\n",
              "      fill: #1967D2;\n",
              "      height: 32px;\n",
              "      padding: 0 0 0 0;\n",
              "      width: 32px;\n",
              "    }\n",
              "\n",
              "    .colab-df-convert:hover {\n",
              "      background-color: #E2EBFA;\n",
              "      box-shadow: 0px 1px 2px rgba(60, 64, 67, 0.3), 0px 1px 3px 1px rgba(60, 64, 67, 0.15);\n",
              "      fill: #174EA6;\n",
              "    }\n",
              "\n",
              "    [theme=dark] .colab-df-convert {\n",
              "      background-color: #3B4455;\n",
              "      fill: #D2E3FC;\n",
              "    }\n",
              "\n",
              "    [theme=dark] .colab-df-convert:hover {\n",
              "      background-color: #434B5C;\n",
              "      box-shadow: 0px 1px 3px 1px rgba(0, 0, 0, 0.15);\n",
              "      filter: drop-shadow(0px 1px 2px rgba(0, 0, 0, 0.3));\n",
              "      fill: #FFFFFF;\n",
              "    }\n",
              "  </style>\n",
              "\n",
              "      <script>\n",
              "        const buttonEl =\n",
              "          document.querySelector('#df-b351f1e2-b3b2-48f5-a89e-b66ede514cd6 button.colab-df-convert');\n",
              "        buttonEl.style.display =\n",
              "          google.colab.kernel.accessAllowed ? 'block' : 'none';\n",
              "\n",
              "        async function convertToInteractive(key) {\n",
              "          const element = document.querySelector('#df-b351f1e2-b3b2-48f5-a89e-b66ede514cd6');\n",
              "          const dataTable =\n",
              "            await google.colab.kernel.invokeFunction('convertToInteractive',\n",
              "                                                     [key], {});\n",
              "          if (!dataTable) return;\n",
              "\n",
              "          const docLinkHtml = 'Like what you see? Visit the ' +\n",
              "            '<a target=\"_blank\" href=https://colab.research.google.com/notebooks/data_table.ipynb>data table notebook</a>'\n",
              "            + ' to learn more about interactive tables.';\n",
              "          element.innerHTML = '';\n",
              "          dataTable['output_type'] = 'display_data';\n",
              "          await google.colab.output.renderOutput(dataTable, element);\n",
              "          const docLink = document.createElement('div');\n",
              "          docLink.innerHTML = docLinkHtml;\n",
              "          element.appendChild(docLink);\n",
              "        }\n",
              "      </script>\n",
              "    </div>\n",
              "  </div>\n",
              "  "
            ]
          },
          "metadata": {},
          "execution_count": 16
        }
      ]
    },
    {
      "cell_type": "code",
      "source": [
        "print(f'length of positive samples {len(df_fintech[df_fintech.label == 1])}')\n",
        "print(f'length of negative samples {len(df_fintech[df_fintech.label == 0])}')"
      ],
      "metadata": {
        "colab": {
          "base_uri": "https://localhost:8080/"
        },
        "id": "sb6hk6gvdQYB",
        "outputId": "a928c31e-7be8-4dc8-cc74-c23565c5b796"
      },
      "execution_count": null,
      "outputs": [
        {
          "output_type": "stream",
          "name": "stdout",
          "text": [
            "length of positive samples 4397\n",
            "length of negative samples 18590\n"
          ]
        }
      ]
    },
    {
      "cell_type": "code",
      "source": [
        "# Generate a subset containing 4000 examples for each category\n",
        "df_fintech_subset = select_subsample(df_fintech, sample_size=4000, random_state=42)\n",
        "\n",
        "# Split the sample in half -- 1000 for training, 1000 for validation\n",
        "# df_fintech_train, df_fintech_valid, _, _ = train_test_split(\n",
        "#     df_fintech_subset, \n",
        "#     df_fintech_subset['category'], \n",
        "#     test_size=.5, \n",
        "#     random_state=42, \n",
        "#     stratify=df_fintech_subset['category']\n",
        "#     )"
      ],
      "metadata": {
        "id": "E_r0kZdhmERp"
      },
      "execution_count": null,
      "outputs": []
    },
    {
      "cell_type": "code",
      "source": [
        "print(f'length of positive samples {len(df_fintech_subset[df_fintech_subset.label == 1])}')\n",
        "print(f'length of negative samples {len(df_fintech_subset[df_fintech_subset.label == 0])}')"
      ],
      "metadata": {
        "colab": {
          "base_uri": "https://localhost:8080/"
        },
        "id": "ttycrzUyfcIg",
        "outputId": "9da36589-53a8-48c8-e538-820cfd6ed4fd"
      },
      "execution_count": null,
      "outputs": [
        {
          "output_type": "stream",
          "name": "stdout",
          "text": [
            "length of positive samples 4000\n",
            "length of negative samples 4000\n"
          ]
        }
      ]
    },
    {
      "cell_type": "code",
      "source": [
        "# df_fintech_train.head()"
      ],
      "metadata": {
        "id": "ynJ18MsomZQt"
      },
      "execution_count": null,
      "outputs": []
    },
    {
      "cell_type": "markdown",
      "source": [
        "training sbert model on selected subsamples from train set, 100 subsamples for either neg or pos, total length: 200"
      ],
      "metadata": {
        "id": "yoFNJy0Okt15"
      }
    },
    {
      "cell_type": "code",
      "source": [
        "# Generate a subset from training DataFrame containing 100 examples for each category\n",
        "df_fintech_train_100 = select_subsample(df_fintech_subset, sample_size=100)\n",
        "\n",
        "# convert that DataFrame to a Dataset\n",
        "fintech_train_100 = _create_dataset_from_df(df_fintech_train_100, 'feature')\n",
        "\n",
        "# compute sbert embeddings for each example\n",
        "fintech_train_100.calc_sbert_embeddings()\n",
        "\n",
        "# this is required due the particular implementation details of our Dataset class\n",
        "fintech_train_100 = expand_labels(fintech_train_100)"
      ],
      "metadata": {
        "colab": {
          "base_uri": "https://localhost:8080/"
        },
        "id": "OcNUmDsrmand",
        "outputId": "b015508f-0d6f-49cd-83ac-5df92a2d9104"
      },
      "execution_count": null,
      "outputs": [
        {
          "output_type": "stream",
          "name": "stderr",
          "text": [
            "Computing sentence representations: 100%|██████████| 13/13 [00:07<00:00,  1.82it/s]\n"
          ]
        }
      ]
    },
    {
      "cell_type": "code",
      "source": [
        "fintech_train_100.embeddings.shape"
      ],
      "metadata": {
        "colab": {
          "base_uri": "https://localhost:8080/"
        },
        "id": "1mnoWbo8izbW",
        "outputId": "b83f90b3-0fb7-4824-d9b3-e88f65f3d645"
      },
      "execution_count": null,
      "outputs": [
        {
          "output_type": "execute_result",
          "data": {
            "text/plain": [
              "torch.Size([202, 768])"
            ]
          },
          "metadata": {},
          "execution_count": 22
        }
      ]
    },
    {
      "cell_type": "code",
      "source": [
        "# Test dataset would be the full train set\n",
        "fintech_test = _create_dataset_from_df(df_fintech_subset, 'feature')\n",
        "\n",
        "# compute sbert embeddings for each example\n",
        "fintech_test.calc_sbert_embeddings()\n",
        "\n",
        "# this is required due the particular implementation details of our Dataset class\n",
        "fintech_test = expand_labels(fintech_test)"
      ],
      "metadata": {
        "colab": {
          "base_uri": "https://localhost:8080/"
        },
        "id": "TyooNfYZmpjB",
        "outputId": "f60a85d0-4937-4e68-9df6-ed6874c4b8ad"
      },
      "execution_count": null,
      "outputs": [
        {
          "output_type": "stream",
          "name": "stderr",
          "text": [
            "Computing sentence representations: 100%|██████████| 501/501 [03:46<00:00,  2.22it/s]\n"
          ]
        }
      ]
    },
    {
      "cell_type": "code",
      "source": [
        "fintech_test.examples[:5]"
      ],
      "metadata": {
        "colab": {
          "base_uri": "https://localhost:8080/"
        },
        "id": "iKz0yY7ez3Y4",
        "outputId": "85311d54-63cd-4844-8961-182c1d091717"
      },
      "execution_count": null,
      "outputs": [
        {
          "output_type": "execute_result",
          "data": {
            "text/plain": [
              "['request demo. name. required. your business email. required. product interest. required. conversation assistant. search assistant. whatsapp for business. message. optional. products. conversation assistant. automated call assistant. whatsapp for business. platform. prepackaged conversation modules. ai. inbox. analytics. channels. solutions. salons, spas med spas. dental clinics doctors offices. consumer product companies. small business front desk. enterprise help desk. resources. blog. case studies. company. products. conversation assistant. automated call assistant. whatsapp for business. platform. prepackaged conversation modules. ai. inbox. analytics. channels. solutions. salons, spas med spas. dental clinics doctors offices. consumer product companies. small business front desk. enterprise help desk. resources. blog. case studies. company. delight your customers with human-like automated conversations ai-powered automated conversations for your front desk and help desk to serve your customers on telephone, chat, messaging platforms, and voice assistants request demo. small business front desk automation. salons, spas med spas. dental clinics doctors offices. automobile dealers service centers. fitness centers health studios. request demo. know more. request demo. know more. request demo. request demo. pre-packaged front desk conversations. appointments. latest business information. consultations suggestions. qualify enquiries leads. upsell, cross-sell, promote. messages callback requests. enterprise help desk automation. consumer product companies. help desk automation. ecommerce. request demo. know more. enhance employee engagement. request demo. know more. request demo. pre-packaged help desk conversations. goal-oriented forms. realtime information. consultations suggestions. custom flows. feedback survey. engagement. omni-channel solutions for delightful voice and text conversations. human interactions tend to be considerably different on text and voice interfaces. concertos pre-packaged conversation modules are designed to give your customers a delightful native interaction experience on the channels of their choice concerto product suite. ai-powered automated conversations for your front desk and help desk to serve your customers and users on voice, chat, messaging platforms, and voice assistants federated search for accurate results from structured data, semi-structured data, and unstructured content solutions. salons, spas med spas. dental clinics doctors offices. consumer products companies. small business front desk. enterprise help desk. products. conversation assistant. whatsapp for business. automated call assistant. company. about concerto. contact us. 2022 concerto. all rights reserved. cookie settings. accept all. privacy overview. necessary. functional. performance. analytics. advertisement. others. save accept delight your customers with human-like automated conversations for your front desk and help desk to serve your customers on telephone, chat, messaging platforms, and voice assistants.',\n",
              " '2021 microsoft partner of the year finalist modernizing applications. infounifycloud.com. menu. services. cloud adoption framework. cloud strategy and planning. app modernization. cloud migration. cloud optimization. cloud security. cloud governance, risk compliance. azure consulting services. our products. cloud migration. cloudsupervisor. . office 365. microsoft csp. azure. office 365. managed cloud. build and migrate. monitor. manage and optimize. partners. partner portal. resources. case studies. webinars. videos. e-book. company. about us. blog. news press. careers. customers. contact us. cloudatlas platform. schedule a consult. accelerate digital transformation. navigating the cloud can be difficult. leverage our expertise within your business to achieve the full potential of the cloud. schedule a demo. read the e-book. live webinar event. hands-on lab azure optimization. march 24th. walk away with a great understanding of how to reduce azure costs up to 40 and create a safe and secure cloud environment register now. read more. microsoft partner of the year. 2021 finalist - modernizing applications. 2020 winner - solution assessment. building on the success of winning solution assessment partner of the year in 2020, unifycloud is honored to be named finalist for the 2021 modernizing applications microsoft partner of the year award which recognizes a partner who has a track record of modernizing applications for the cloud, has demonstrated a deep understanding business challenges, and has helped motivate adoption of new cloud technologies and practices accelerate digital transformation. navigating the cloud can be difficult. leverage our expertise within your business to achieve the full potential of the cloud. schedule a demo. read the e-book. live webinar event. hands-on lab azure optimization. march 24th. walk away with a great understanding of how to reduce azure costs up to 40 and create a safe and secure cloud environment register now. 1. 2. 3. previous. next. transforming the cloud migration journey is what we do. our cloud solutions help clients and partners accelerate cloud migration. organization. we can help by demystifying cloud migration and help you understand your options, develop a cloud migration strategy, and help you execute that plan learn more about our services. systems integrator. see how our tools can take your business to the next level by automating manual, time-consuming and expensive processes and unleash your resources to grow your business learn more about cloudatlas. cloud services. cloud strategy. planning. learn more. cloud. migration. learn more. cloud. optimization. learn more. cloud governance. security. learn more. introducing the cloudatlas cloud migration suite of tools. the cloudatlas integrated tool set spans the entire cloud migration lifecycle, provides insight into legacy systems and automates and facilitates migration at cloud scale that manual processes and on-premise tools just cant support. cloudatlas has been tested and proven to accelerate even the largest and most complex migration scenarios helping you get to the cloud quickly, securely and in compliance. the cloudatlas suite of tools follows the microsoft cloud migration framework and has a solution to expedite every step of the cloud migration journey identify and inventory on-premise resources to plan where cloud migration should start migrate quickly and efficiently with flexible, powerful tools ensuring minimal business disruption streamline resources to improve performance, maximize roi, and maintain compliance fine tune resources to strengthen security and gain oversight of analytics and azure usage explore all products. learn how unifycloud helps you develop a great cloud migration business case and implements that business case to operate in a secure, optimized and well-managed cloud environment watch video. specialized in three areas of the cloud cost, cybersecurity, and compliance, we have developed solutions and tools marketed under the cloudatlas brand to help customers rapidly adopt, securely deploy and effectively manage workloads and custom applications moved to microsofts cloud solutions azure, office 365 the services and the cloudatlas toolset span the full range of cloud migration stages. this toolset can be used to create detailed estimates and specific coding recommendations to remediate applications to be cloud-ready, test against enterprise cloud operational standards before deployment to the cloud, provide reports on changes to azure services and settings that may have occurred, providing detailed recommendations to keep applications and the underlying azure services settings in line with enterprise standards. cloudatlas can be deployed in an azure subscription or subscribed to as a managed service recognized as the 2021 microsoft partner of the year. finalist. for modernizing applications. recognized as the 2020 microsoft partner of the year. winner. for solution assessment. a certified microsoft gold partner, unifycloud is committed to making you successful. as a microsoft cloud solution provider, unifycloud resells microsoft services to commercial and public sector customers. unifycloud. unifycloud is a redmond washington based, information technology and cloud solutions provider specializing in cybersecurity, compliance, and cost management. developed by a team of former microsoft architects, developers and cybersecurity professionals, we make your journey to the cloud smooth and efficient.focus on your business weve got the cloud keep updated. quick links. job postings. blog. contact. privacy policy. terms and conditions. cloud migration tools. cloud migration products. company. about us. csp portal. customers. partners. executive leadership. awards. news press. subscribe to our newsletter. the unifycloud, cloudatlas, cloudrecon, cloudpilot, cloudsupervisor, cloudorigin, and other product names and trademarks are the property of unifycloud or their respective owners copyright 2022 unifycloud llc. live webinar event. hands-on lab azure optimization. march 24th. register now. contact us. your name. your email. case title. description. case type. ---. question. problemincident. requesttask. attachment. drag drop files here. or. browse files. 0. of 5. . document.getelementbyid akjs1 .setattribute value, new date .gettime  unifycloud is cloud modernization and migration services company focusing on app and database modernization and developing holistic tools and solutions for azure.',\n",
              " 'about us. our harvests. where we deliver. work with us. sign in. shop now. our story. faqs. recipes, tips hacks. blog. careers. drivers. partners. suppliers. wholesale. about us. our story. faqs. recipes, tips hacks. blog. our harvests. where we deliver. work with us. careers. drivers. partners. suppliers. wholesale. sign in. shop now. what will you discover. experiment with produce youve never tried. use every part of every plant. create a better food system that nourishes every person, builds healthier communities and moves us towards a waste-free future lets go. what will you discover. experiment with produce youve never tried. use every part of every plant. create a better food system that nourishes every person, builds healthier communities and moves us towards a waste-free future lets go. how it works. choose your harvest. produce boxes start at 15 and come in a variety of sizes and options, including organic. make it your own. customize your harvest for free and shop our marketplace for additional grocery staples pick up at your door. get. farm-fresh plant power. delivered directly to your doorstep by our local drivers make a difference. eliminate food waste and support local donations to hunger-fighting organizations find your plant power. were building a waste-free future you help with every plate you create the sustainable source of plant creativity we work with farmers to rescue produce so it doesnt needlessly go to waste. when you create meals with these fresh, nutritious plants, youre building a more resilient, waste-free food system learn more. plant power for the people save time. save money. were making fresh, nutrient-dense produce and grocery staples available to your whole family at a price you can afford shop harvests. endless health possibilities eating produce is the easiest way to keep you and your family healthy, but we know roasted carrots on repeat can be boring. we deliver a new variety of produce and grocery items each week and share storage tips, simple recipes and kitchen hacks so you can easily create new, healthy, meal options get tips. less waste. more creativity shake up your meal-prep game and get the most out of every fruit and veggie in your kitchen 9 ways to use your leftover produce. leave no part behind - cooking from root to stem. 5 easy ways to reduce waste right now. dont waste it - freeze it. familyhungryharvest.net. about us. our story. where we deliver. faqs. recipes, tips hacks. blog. our harvests. work with us. careers. drivers. partners. suppliers. wholesale. help center. sign up. my account. waitlist. recycling. search. terms of use. privacy. sumo hungry harvest is a farm to doorstep produce delivery service on a mission to end food waste hunger. every delivery rescues at least 10 lbs of fruits veggies from going to waste, supports local hunger-solving efforts costs less than grocery we currently deliver in dc, de, fl, md, ',\n",
              " 'skip to content. shop. about. search. contact. twitter. instagram. menace discord. shop. about. search. contact. item added to your cart. choosing a selection results in a full page refresh get menace updates. allow push notifications to be the first to get updated on our new products and exclusive promotions. menace. the official website of menace. established 2013 in los angeles.',\n",
              " 'search. view account. eyeliner stencils. back. eyeliner stencils. eye candy stencils. cat eyeliner stencil. smokey eye stencil. eyes. back. eyes. eye to eye liquid eyeliner. gel eyeliner frosting. foiled glac shadow. glitter glaze. lashes. brushes. back. brushes. makeup brush sets. individual makeup brushes. collections. deals. your cart. continue shopping. click here. save 20 with code goodvibes20. log in. sign up. eyeliner stencils. eye candy stencils. cat eyeliner stencil. smokey eye stencil. eyes. eye to eye liquid eyeliner. gel eyeliner frosting. foiled glac shadow. glitter glaze. lashes. brushes. makeup brush sets. individual makeup brushes. collections. deals. cart. . 0. . eyeliner stencils. eye candy eyeliner starter pack. 81. 10.99. sale. girls night out eyeliner set. 2. 25.00. 20.00. original cat eyeliner stencil smokey eye stencil. 51. 18.00. new the wing factor. 5. 48.00. sale. glamorous cat eyeliner deluxe set. 26. 40.00. 35.00. eye candy eyeliner stencil pro pack. 20. 22.00. eye candy deluxe stencil set. 11. 24.00. eye candy starter pack and gel eyeliner frosting set. 2. 25.00. customer picks. newest obsessions. eye candy starter pack. check it out. new faux mink lashes. check them out. winged liner stencil. check it out. new eye see you. check it out. why choose beth bender beauty. beth bender beauty is your premier retail source for everything eyes. we are known in the beauty industry as the inventors of. eyeliner stencils. and smokey eye stencils. beth bender beauty helps you create professional eye makeup looks with ease. our exclusive line of beauty products for eyes, brows and lashes are designed to enhance your natural radiance and come in a variety of exciting shades and styles. our professional makeup brushes provide you with a precise application every time contact us. 877 236-7630. infobethbenderbeauty.com. expertbethbenderbeauty.com. monday - friday. 10am - 6pm. 2022 beth bender beauty llc. all rights reserved apple pay. discover. mastercard. paypal. shop pay. venmo. visa. shopping cart. our story. press. contact us. customer care. faqs. privacy policy and legal disclaimer. videos. ask an expert. refund policy. terms of service. videos. beauty blog. sign up to our mailing list beth bender beauty is the creator of eyeliner stencils eye makeup stencils. we make makeup easy.']"
            ]
          },
          "metadata": {},
          "execution_count": 39
        }
      ]
    },
    {
      "cell_type": "code",
      "source": [
        "fintech_test.embeddings.shape"
      ],
      "metadata": {
        "colab": {
          "base_uri": "https://localhost:8080/"
        },
        "id": "PZPSMe9HyRSF",
        "outputId": "b2116957-fc8f-44f4-c233-8408647d5c20"
      },
      "execution_count": null,
      "outputs": [
        {
          "output_type": "execute_result",
          "data": {
            "text/plain": [
              "torch.Size([8002, 768])"
            ]
          },
          "metadata": {},
          "execution_count": 37
        }
      ]
    },
    {
      "cell_type": "markdown",
      "source": [
        "#### Calculate Zmap  \n",
        "TODO: Train Zmap on our own corpus   \n",
        "[Few Shot Learning: Zmap](https://github.com/fastforwardlabs/few-shot-text-classification/blob/master/notebooks/Zmap_Experiments.ipynb), it is using top 20k most frequent words to get vectors\n"
      ],
      "metadata": {
        "id": "QwX_X09qlc0J"
      }
    },
    {
      "cell_type": "code",
      "source": [
        "from keras.preprocessing.text import Tokenizer\n",
        "import pickle\n",
        "import gensim"
      ],
      "metadata": {
        "id": "Cf3vmeOO0ZlC"
      },
      "execution_count": null,
      "outputs": []
    },
    {
      "cell_type": "code",
      "source": [
        "max_features = 2000\n",
        "# tokenizer = Tokenizer(num_words=max_features)\n",
        "tokenizer = Tokenizer(num_words=max_features, filters='!\"#$%&()*+,-./:;<=>?@[\\\\]^_`{|}~\\t\\n', lower=True, split=' ')  # lower=True\n",
        "tokenizer.fit_on_texts(fintech_test.examples)\n",
        "vocab = tokenizer.word_index"
      ],
      "metadata": {
        "id": "t2KQ7l7myqRg"
      },
      "execution_count": null,
      "outputs": []
    },
    {
      "cell_type": "code",
      "source": [
        "len(vocab)"
      ],
      "metadata": {
        "colab": {
          "base_uri": "https://localhost:8080/"
        },
        "id": "CQJxZNb90nB-",
        "outputId": "56cf65f5-b836-4a6c-95a2-403ce095bc29"
      },
      "execution_count": null,
      "outputs": [
        {
          "output_type": "execute_result",
          "data": {
            "text/plain": [
              "141886"
            ]
          },
          "metadata": {},
          "execution_count": 46
        }
      ]
    },
    {
      "cell_type": "code",
      "source": [
        "# Train zmap\n",
        "# Sbert model on our own corpus\n",
        "# Load SBERT embedding model\n",
        "model, tokenizer = load_transformer_model_and_tokenizer(\"deepset/sentence_bert\")\n",
        "\n",
        "# Word2Vec model on our own corpus \n",
        "# Load W2V embedding model\n",
        "embed_size = 768\n",
        "w2v_model = gensim.models.Word2Vec(data['feature_cat_token'], size=embed_size, window=10, min_count=5, workers=10)\n",
        "w2v_model.train(data['feature_cat_token'], total_examples=len(data['feature_cat_token']), epochs=10)\n",
        "# Zmap_w2v = OLS_with_l2_regularization(sbert_vectors, to_tensor(w2v_vectors))"
      ],
      "metadata": {
        "id": "ooeOwYhfyJHs",
        "colab": {
          "base_uri": "https://localhost:8080/"
        },
        "outputId": "7dbcca40-f49f-482e-f7ab-b26517b76f17"
      },
      "execution_count": null,
      "outputs": [
        {
          "output_type": "stream",
          "name": "stderr",
          "text": [
            "WARNING:gensim.models.base_any2vec:Effective 'alpha' higher than previous training cycles\n",
            "Computing sentence representations: 100%|██████████| 8868/8868 [1:10:24<00:00,  2.10it/s]\n"
          ]
        }
      ]
    },
    {
      "cell_type": "code",
      "source": [
        "w2v_vectors = np.zeros((len(vocab), embed_size)) # 从0开始计数 加1对应之前特征词\n",
        "# create Word2Vec embedding for every word corresponding to its position embedding \n",
        "for word, i in vocab.items():\n",
        "    try:\n",
        "        # get word vector and create embedding matrix\n",
        "        embedding_vector = w2v_model.wv[str(word)]\n",
        "        w2v_vectors[i] = embedding_vector\n",
        "    except KeyError: # pass if word not found\n",
        "        continue"
      ],
      "metadata": {
        "id": "KpufgQjzMkXQ"
      },
      "execution_count": null,
      "outputs": []
    },
    {
      "cell_type": "code",
      "source": [
        "# train sbert vectors on the same vocab\n",
        "sbert_vectors = get_sentence_embeddings(\n",
        "    vocab, \n",
        "    model, \n",
        "    tokenizer\n",
        "    )"
      ],
      "metadata": {
        "id": "HLN3eLIFMpKp"
      },
      "execution_count": null,
      "outputs": []
    },
    {
      "cell_type": "code",
      "source": [
        "Zmap_w2v = OLS_with_l2_regularization(sbert_vectors, to_tensor(w2v_vectors))"
      ],
      "metadata": {
        "id": "HwjW9midML2z"
      },
      "execution_count": null,
      "outputs": []
    },
    {
      "cell_type": "code",
      "source": [
        "# Load Zmap\n",
        "Zmap_w2v = torch_load(fewshot_filename(\"data/maps\", \"Zmap_20k_w2v_words_alpha0.pt\"))\n",
        "Zmap_w2v.size()"
      ],
      "metadata": {
        "id": "Qrc5ZkLFmuF6",
        "colab": {
          "base_uri": "https://localhost:8080/"
        },
        "outputId": "94eaf5d0-37e0-41d3-fd10-698243f83c7a"
      },
      "execution_count": null,
      "outputs": [
        {
          "output_type": "execute_result",
          "data": {
            "text/plain": [
              "torch.Size([768, 300])"
            ]
          },
          "metadata": {},
          "execution_count": 67
        }
      ]
    },
    {
      "cell_type": "code",
      "source": [
        "# convert the properly formatted training Dataset into a PyTorch DataLoader\n",
        "data_loader = prepare_dataloader(fintech_train_100, Zmap_w2v)"
      ],
      "metadata": {
        "id": "jqcb9-N7nwvl"
      },
      "execution_count": null,
      "outputs": []
    },
    {
      "cell_type": "markdown",
      "source": [
        "#### Calculate Wmap"
      ],
      "metadata": {
        "id": "FmrNSW8xotO3"
      }
    },
    {
      "cell_type": "code",
      "source": [
        "# dimensions for Wmap should match the last dimension of Zmap since Wmap will modify SBERT*Zmap\n",
        "model_size = (Zmap_w2v.size()[1], Zmap_w2v.size()[1])     \n",
        "lr = 0.1          # learning rate\n",
        "lam = 500         # lambda regularization value\n",
        "epochs = 100      # training epochs\n",
        "device = \"cuda\" if torch.cuda.is_available() else \"cpu\""
      ],
      "metadata": {
        "id": "aQQ01dhgnw0T"
      },
      "execution_count": null,
      "outputs": []
    },
    {
      "cell_type": "code",
      "source": [
        "# instantiate a model and loss function\n",
        "fewshot_model = FewShotLinearRegression(\n",
        "    *model_size, \n",
        "    loss_fcn=BayesianMSELoss(device=device), \n",
        "    lr=lr, \n",
        "    device=device)\n",
        "\n",
        "# train\n",
        "loss_history = train(fewshot_model, data_loader, num_epochs=epochs, lam=lam)"
      ],
      "metadata": {
        "id": "LWJ1JOwOnw3B"
      },
      "execution_count": null,
      "outputs": []
    },
    {
      "cell_type": "code",
      "source": [
        "# visualize the loss as a function of epochs\n",
        "plt.plot(loss_history);"
      ],
      "metadata": {
        "colab": {
          "base_uri": "https://localhost:8080/",
          "height": 265
        },
        "id": "8Kxo8z6knw5p",
        "outputId": "516b21f7-0205-4b64-f21c-42b5f94400b6"
      },
      "execution_count": null,
      "outputs": [
        {
          "output_type": "display_data",
          "data": {
            "text/plain": [
              "<Figure size 432x288 with 1 Axes>"
            ],
            "image/png": "[encoded data removed]"
          },
          "metadata": {
            "needs_background": "light"
          }
        }
      ]
    },
    {
      "cell_type": "code",
      "source": [
        "# grab Wmap (weight matrix of the model)\n",
        "Wmap_100 = fewshot_model.linear.weight.detach().cpu()\n",
        "\n",
        "# predict on test set\n",
        "test_score, ft_preds_test = predict_and_score(fintech_test, linear_maps=[Zmap_w2v, Wmap_100], return_predictions=True)\n",
        "\n",
        "# predict on train set\n",
        "train_score, ft_preds_train = predict_and_score(fintech_train_100, linear_maps=[Zmap_w2v, Wmap_100], return_predictions=True)\n",
        "print(test_score, train_score)"
      ],
      "metadata": {
        "colab": {
          "base_uri": "https://localhost:8080/"
        },
        "id": "Wn6lMAxQnw8N",
        "outputId": "096a0a9b-44c6-434a-bef7-02d176ea0774"
      },
      "execution_count": null,
      "outputs": [
        {
          "output_type": "stream",
          "name": "stdout",
          "text": [
            "71.275 76.0\n"
          ]
        }
      ]
    },
    {
      "cell_type": "code",
      "source": [
        "ft_preds_test[:5]"
      ],
      "metadata": {
        "id": "yIHwW8a3Oek6",
        "colab": {
          "base_uri": "https://localhost:8080/"
        },
        "outputId": "7d74757f-d97e-4d29-9052-b40f8f2e0019"
      },
      "execution_count": null,
      "outputs": [
        {
          "output_type": "execute_result",
          "data": {
            "text/plain": [
              "[Prediction(closest=[0, 1], scores=[0.3679269850254059, 0.3282959461212158], best=0),\n",
              " Prediction(closest=[1, 0], scores=[0.28872227668762207, 0.251669704914093], best=1),\n",
              " Prediction(closest=[0, 1], scores=[0.264237642288208, 0.14731718599796295], best=0),\n",
              " Prediction(closest=[0, 1], scores=[0.2006274312734604, 0.1441161185503006], best=0),\n",
              " Prediction(closest=[0, 1], scores=[0.356978178024292, 0.28751876950263977], best=0)]"
            ]
          },
          "metadata": {},
          "execution_count": 73
        }
      ]
    },
    {
      "cell_type": "code",
      "source": [
        "ft_preds_train[:5]"
      ],
      "metadata": {
        "colab": {
          "base_uri": "https://localhost:8080/"
        },
        "id": "JPBzq_QCt7aM",
        "outputId": "f8617eda-599e-4639-f169-d64b5f37419a"
      },
      "execution_count": null,
      "outputs": [
        {
          "output_type": "execute_result",
          "data": {
            "text/plain": [
              "[Prediction(closest=[0, 1], scores=[0.38528284430503845, 0.26882779598236084], best=0),\n",
              " Prediction(closest=[0, 1], scores=[0.23794879019260406, 0.2300841510295868], best=0),\n",
              " Prediction(closest=[0, 1], scores=[0.3216497600078583, 0.21213291585445404], best=0),\n",
              " Prediction(closest=[0, 1], scores=[0.24354493618011475, 0.2120395302772522], best=0),\n",
              " Prediction(closest=[0, 1], scores=[0.13954082131385803, 0.027211258187890053], best=0)]"
            ]
          },
          "metadata": {},
          "execution_count": 74
        }
      ]
    },
    {
      "cell_type": "code",
      "source": [
        "from sklearn.metrics import f1_score\n",
        "print(f'F1 Score on full data set: {f1_score(fintech_test.labels, [pred.best for pred in ft_preds_test])}')\n",
        "print(f'F1 Score on train set: {f1_score(fintech_train_100.labels, [pred.best for pred in ft_preds_train])}')"
      ],
      "metadata": {
        "colab": {
          "base_uri": "https://localhost:8080/"
        },
        "id": "ewdnMQdrufNN",
        "outputId": "9e9297d6-50b1-4d44-d566-05a38f308575"
      },
      "execution_count": null,
      "outputs": [
        {
          "output_type": "stream",
          "name": "stdout",
          "text": [
            "F1 Score on full data set: 0.7495640802092415\n",
            "F1 Score on train set: 0.7857142857142856\n"
          ]
        }
      ]
    },
    {
      "cell_type": "code",
      "source": [
        ""
      ],
      "metadata": {
        "id": "DAeIjeiewmH-"
      },
      "execution_count": null,
      "outputs": []
    },
    {
      "cell_type": "markdown",
      "source": [
        "#### With fewer samples for fintech label\n",
        "What if we only use 10 neg and 10 pos samples as few shot samples? Since customers will not be that patient if they need to read 200 sentences/text."
      ],
      "metadata": {
        "id": "Ov-q1IUAiO2c"
      }
    },
    {
      "cell_type": "code",
      "source": [
        "# Generate a subset from training DataFrame containing 100 examples for each category\n",
        "df_fintech_train_10 = select_subsample(df_fintech_subset, sample_size=10)\n",
        "\n",
        "# convert that DataFrame to a Dataset\n",
        "fintech_train_10 = _create_dataset_from_df(df_fintech_train_10, 'feature')\n",
        "\n",
        "# compute sbert embeddings for each example\n",
        "fintech_train_10.calc_sbert_embeddings()\n",
        "\n",
        "# this is required due the particular implementation details of our Dataset class\n",
        "fintech_train_10 = expand_labels(fintech_train_10)"
      ],
      "metadata": {
        "colab": {
          "base_uri": "https://localhost:8080/"
        },
        "id": "jfZ4p0NIihpV",
        "outputId": "e8bc6b9a-9a35-4c6e-e9d9-402cff92f1bf"
      },
      "execution_count": null,
      "outputs": [
        {
          "output_type": "stream",
          "name": "stderr",
          "text": [
            "Computing sentence representations: 100%|██████████| 2/2 [00:00<00:00,  3.26it/s]\n"
          ]
        }
      ]
    },
    {
      "cell_type": "code",
      "source": [
        "fintech_train_10.embeddings.shape"
      ],
      "metadata": {
        "colab": {
          "base_uri": "https://localhost:8080/"
        },
        "id": "TSvAe1hyi7Pe",
        "outputId": "c7c8d39e-e405-402c-d29b-8c63b74f54f3"
      },
      "execution_count": null,
      "outputs": [
        {
          "output_type": "execute_result",
          "data": {
            "text/plain": [
              "torch.Size([22, 768])"
            ]
          },
          "metadata": {},
          "execution_count": 77
        }
      ]
    },
    {
      "cell_type": "code",
      "source": [
        "# convert the properly formatted training Dataset into a PyTorch DataLoader\n",
        "data_loader = prepare_dataloader(fintech_train_10, Zmap_w2v)\n",
        "\n",
        "# dimensions for Wmap should match the last dimension of Zmap since Wmap will modify SBERT*Zmap\n",
        "model_size = (Zmap_w2v.size()[1], Zmap_w2v.size()[1])     \n",
        "lr = 0.1          # learning rate\n",
        "lam = 500        # lambda regularization value\n",
        "epochs = 100      # training epochs\n",
        "device = \"cuda\" if torch.cuda.is_available() else \"cpu\"\n",
        "\n",
        "# instantiate a model and loss function\n",
        "fewshot_model = FewShotLinearRegression(\n",
        "    *model_size, \n",
        "    loss_fcn=BayesianMSELoss(device=device), \n",
        "    lr=lr, \n",
        "    device=device\n",
        "    )\n",
        "\n",
        "# train\n",
        "loss_history = train(fewshot_model, data_loader, num_epochs=epochs, lam=lam)\n",
        "\n",
        "# grab Wmap (weight matrix of the model)\n",
        "Wmap_10 = fewshot_model.linear.weight.detach().cpu()\n",
        "\n",
        "# predict on test set\n",
        "test_score_10, ft_preds_test_10 = predict_and_score(fintech_test, linear_maps=[Zmap_w2v, Wmap_10], return_predictions=True)\n",
        "\n",
        "# predict on train set\n",
        "train_score_10, ft_preds_train_10 = predict_and_score(fintech_train_10, linear_maps=[Zmap_w2v, Wmap_10], return_predictions=True)\n",
        "print(test_score_10, train_score_10)"
      ],
      "metadata": {
        "colab": {
          "base_uri": "https://localhost:8080/"
        },
        "id": "A0G9ertji_4a",
        "outputId": "81c3894f-6da1-4c62-8e9c-9c0b848920a7"
      },
      "execution_count": null,
      "outputs": [
        {
          "output_type": "stream",
          "name": "stdout",
          "text": [
            "65.1375 75.0\n"
          ]
        }
      ]
    },
    {
      "cell_type": "code",
      "source": [
        "print(f'F1 Score on full data set: {f1_score(fintech_test.labels, [pred.best for pred in ft_preds_test_10])}')\n",
        "print(f'F1 Score on train set: {f1_score(fintech_train_10.labels, [pred.best for pred in ft_preds_train_10])}')"
      ],
      "metadata": {
        "colab": {
          "base_uri": "https://localhost:8080/"
        },
        "id": "_7XiERBUjhne",
        "outputId": "e3842487-f0b4-4fb7-9434-383a963b3c59"
      },
      "execution_count": null,
      "outputs": [
        {
          "output_type": "stream",
          "name": "stdout",
          "text": [
            "F1 Score on full data set: 0.6971440981648388\n",
            "F1 Score on train set: 0.7826086956521738\n"
          ]
        }
      ]
    },
    {
      "cell_type": "markdown",
      "source": [
        "Problem:   \n",
        "1. the number of given labels is too small whereas the number of missing samples is too large = lower accuracy on testing set\n",
        "2. Regularization = higher bias = lower accuracy on training set  \n",
        "\n",
        "Improvement:\n",
        "1. hyperparameter tuning \n",
        "2. predict part of label missing samples and perform few shot again on the rest data set "
      ],
      "metadata": {
        "id": "eGJi9Os1vIm9"
      }
    },
    {
      "cell_type": "code",
      "source": [
        ""
      ],
      "metadata": {
        "id": "mjCHMhnZjxAv"
      },
      "execution_count": null,
      "outputs": []
    }
  ]
}